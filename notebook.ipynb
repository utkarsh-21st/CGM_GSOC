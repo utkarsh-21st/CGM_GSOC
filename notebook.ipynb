{
  "nbformat": 4,
  "nbformat_minor": 0,
  "metadata": {
    "colab": {
      "name": "eval_notebook.ipynb",
      "provenance": [],
      "collapsed_sections": [
        "48FnJ9RJ1tNF",
        "HEk6xlk5PCfm",
        "ZkR4sGxDPG1u",
        "2qVOqfv6V90q",
        "k3zDSotDH1AC",
        "6EGafCNCQ0Vj",
        "JAaBq_01HNm0",
        "hsW-YSr6GvjI",
        "SuqZwmp_GoYB",
        "ApXRwWcSx3aA"
      ]
    },
    "kernelspec": {
      "name": "python3",
      "display_name": "Python 3"
    },
    "accelerator": "GPU"
  },
  "cells": [
    {
      "cell_type": "markdown",
      "metadata": {
        "id": "48FnJ9RJ1tNF"
      },
      "source": [
        "\n",
        "Make sure to that your system has cuda enabled GPU to for faster XGBoost training. See [XgBoost GPU Support](https://xgboost.readthedocs.io/en/latest/gpu/index.html)"
      ]
    },
    {
      "cell_type": "markdown",
      "metadata": {
        "id": "5lZKec9Q2KH5"
      },
      "source": [
        "### get data"
      ]
    },
    {
      "cell_type": "code",
      "metadata": {
        "id": "w10v2uJHHiRt"
      },
      "source": [
        "import pandas as pd"
      ],
      "execution_count": null,
      "outputs": []
    },
    {
      "cell_type": "markdown",
      "metadata": {
        "id": "I1cNDW8g82e5"
      },
      "source": [
        "Link to the dataset: \n",
        "https://drive.google.com/file/d/1Nl-RU5HggCSWWqINN4gbxHAVzER6T2Po/view?usp=sharing"
      ]
    },
    {
      "cell_type": "code",
      "metadata": {
        "id": "sXWxo0v_F0yR"
      },
      "source": [
        "data = pd.read_csv('/content/HIGGS_6M.csv.gz', compression='gzip', header=None)"
      ],
      "execution_count": null,
      "outputs": []
    },
    {
      "cell_type": "code",
      "metadata": {
        "colab": {
          "base_uri": "https://localhost:8080/"
        },
        "id": "DKnvkogcH0kz",
        "outputId": "bc6f3784-b978-4d9d-bee1-98a54c3e5c2b"
      },
      "source": [
        "data.shape"
      ],
      "execution_count": null,
      "outputs": [
        {
          "output_type": "execute_result",
          "data": {
            "text/plain": [
              "(6000000, 29)"
            ]
          },
          "metadata": {
            "tags": []
          },
          "execution_count": 16
        }
      ]
    },
    {
      "cell_type": "code",
      "metadata": {
        "colab": {
          "base_uri": "https://localhost:8080/"
        },
        "id": "wPIaqFzSH1Sp",
        "outputId": "a02028fa-07f1-4a4e-aba0-ad3cdc18d1b7"
      },
      "source": [
        "data.isna().sum().sum()"
      ],
      "execution_count": null,
      "outputs": [
        {
          "output_type": "execute_result",
          "data": {
            "text/plain": [
              "0"
            ]
          },
          "metadata": {
            "tags": []
          },
          "execution_count": 17
        }
      ]
    },
    {
      "cell_type": "code",
      "metadata": {
        "colab": {
          "base_uri": "https://localhost:8080/"
        },
        "id": "Sva0j-fHIfvO",
        "outputId": "86f2eaf0-23bf-472a-b367-44c6abeb7561"
      },
      "source": [
        "data.head()"
      ],
      "execution_count": null,
      "outputs": [
        {
          "output_type": "execute_result",
          "data": {
            "text/html": [
              "<div>\n",
              "<style scoped>\n",
              "    .dataframe tbody tr th:only-of-type {\n",
              "        vertical-align: middle;\n",
              "    }\n",
              "\n",
              "    .dataframe tbody tr th {\n",
              "        vertical-align: top;\n",
              "    }\n",
              "\n",
              "    .dataframe thead th {\n",
              "        text-align: right;\n",
              "    }\n",
              "</style>\n",
              "<table border=\"1\" class=\"dataframe\">\n",
              "  <thead>\n",
              "    <tr style=\"text-align: right;\">\n",
              "      <th></th>\n",
              "      <th>0</th>\n",
              "      <th>1</th>\n",
              "      <th>2</th>\n",
              "      <th>3</th>\n",
              "      <th>4</th>\n",
              "      <th>5</th>\n",
              "      <th>6</th>\n",
              "      <th>7</th>\n",
              "      <th>8</th>\n",
              "      <th>9</th>\n",
              "      <th>10</th>\n",
              "      <th>11</th>\n",
              "      <th>12</th>\n",
              "      <th>13</th>\n",
              "      <th>14</th>\n",
              "      <th>15</th>\n",
              "      <th>16</th>\n",
              "      <th>17</th>\n",
              "      <th>18</th>\n",
              "      <th>19</th>\n",
              "      <th>20</th>\n",
              "      <th>21</th>\n",
              "      <th>22</th>\n",
              "      <th>23</th>\n",
              "      <th>24</th>\n",
              "      <th>25</th>\n",
              "      <th>26</th>\n",
              "      <th>27</th>\n",
              "      <th>28</th>\n",
              "    </tr>\n",
              "  </thead>\n",
              "  <tbody>\n",
              "    <tr>\n",
              "      <th>0</th>\n",
              "      <td>1.0</td>\n",
              "      <td>0.869293</td>\n",
              "      <td>-0.635082</td>\n",
              "      <td>0.225690</td>\n",
              "      <td>0.327470</td>\n",
              "      <td>-0.689993</td>\n",
              "      <td>0.754202</td>\n",
              "      <td>-0.248573</td>\n",
              "      <td>-1.092064</td>\n",
              "      <td>0.000000</td>\n",
              "      <td>1.374992</td>\n",
              "      <td>-0.653674</td>\n",
              "      <td>0.930349</td>\n",
              "      <td>1.107436</td>\n",
              "      <td>1.138904</td>\n",
              "      <td>-1.578198</td>\n",
              "      <td>-1.046985</td>\n",
              "      <td>0.000000</td>\n",
              "      <td>0.657930</td>\n",
              "      <td>-0.010455</td>\n",
              "      <td>-0.045767</td>\n",
              "      <td>3.101961</td>\n",
              "      <td>1.353760</td>\n",
              "      <td>0.979563</td>\n",
              "      <td>0.978076</td>\n",
              "      <td>0.920005</td>\n",
              "      <td>0.721657</td>\n",
              "      <td>0.988751</td>\n",
              "      <td>0.876678</td>\n",
              "    </tr>\n",
              "    <tr>\n",
              "      <th>1</th>\n",
              "      <td>1.0</td>\n",
              "      <td>0.907542</td>\n",
              "      <td>0.329147</td>\n",
              "      <td>0.359412</td>\n",
              "      <td>1.497970</td>\n",
              "      <td>-0.313010</td>\n",
              "      <td>1.095531</td>\n",
              "      <td>-0.557525</td>\n",
              "      <td>-1.588230</td>\n",
              "      <td>2.173076</td>\n",
              "      <td>0.812581</td>\n",
              "      <td>-0.213642</td>\n",
              "      <td>1.271015</td>\n",
              "      <td>2.214872</td>\n",
              "      <td>0.499994</td>\n",
              "      <td>-1.261432</td>\n",
              "      <td>0.732156</td>\n",
              "      <td>0.000000</td>\n",
              "      <td>0.398701</td>\n",
              "      <td>-1.138930</td>\n",
              "      <td>-0.000819</td>\n",
              "      <td>0.000000</td>\n",
              "      <td>0.302220</td>\n",
              "      <td>0.833048</td>\n",
              "      <td>0.985700</td>\n",
              "      <td>0.978098</td>\n",
              "      <td>0.779732</td>\n",
              "      <td>0.992356</td>\n",
              "      <td>0.798343</td>\n",
              "    </tr>\n",
              "    <tr>\n",
              "      <th>2</th>\n",
              "      <td>1.0</td>\n",
              "      <td>0.798835</td>\n",
              "      <td>1.470639</td>\n",
              "      <td>-1.635975</td>\n",
              "      <td>0.453773</td>\n",
              "      <td>0.425629</td>\n",
              "      <td>1.104875</td>\n",
              "      <td>1.282322</td>\n",
              "      <td>1.381664</td>\n",
              "      <td>0.000000</td>\n",
              "      <td>0.851737</td>\n",
              "      <td>1.540659</td>\n",
              "      <td>-0.819690</td>\n",
              "      <td>2.214872</td>\n",
              "      <td>0.993490</td>\n",
              "      <td>0.356080</td>\n",
              "      <td>-0.208778</td>\n",
              "      <td>2.548224</td>\n",
              "      <td>1.256955</td>\n",
              "      <td>1.128848</td>\n",
              "      <td>0.900461</td>\n",
              "      <td>0.000000</td>\n",
              "      <td>0.909753</td>\n",
              "      <td>1.108330</td>\n",
              "      <td>0.985692</td>\n",
              "      <td>0.951331</td>\n",
              "      <td>0.803252</td>\n",
              "      <td>0.865924</td>\n",
              "      <td>0.780118</td>\n",
              "    </tr>\n",
              "    <tr>\n",
              "      <th>3</th>\n",
              "      <td>0.0</td>\n",
              "      <td>1.344385</td>\n",
              "      <td>-0.876626</td>\n",
              "      <td>0.935913</td>\n",
              "      <td>1.992050</td>\n",
              "      <td>0.882454</td>\n",
              "      <td>1.786066</td>\n",
              "      <td>-1.646778</td>\n",
              "      <td>-0.942383</td>\n",
              "      <td>0.000000</td>\n",
              "      <td>2.423265</td>\n",
              "      <td>-0.676016</td>\n",
              "      <td>0.736159</td>\n",
              "      <td>2.214872</td>\n",
              "      <td>1.298720</td>\n",
              "      <td>-1.430738</td>\n",
              "      <td>-0.364658</td>\n",
              "      <td>0.000000</td>\n",
              "      <td>0.745313</td>\n",
              "      <td>-0.678379</td>\n",
              "      <td>-1.360356</td>\n",
              "      <td>0.000000</td>\n",
              "      <td>0.946652</td>\n",
              "      <td>1.028704</td>\n",
              "      <td>0.998656</td>\n",
              "      <td>0.728281</td>\n",
              "      <td>0.869200</td>\n",
              "      <td>1.026736</td>\n",
              "      <td>0.957904</td>\n",
              "    </tr>\n",
              "    <tr>\n",
              "      <th>4</th>\n",
              "      <td>1.0</td>\n",
              "      <td>1.105009</td>\n",
              "      <td>0.321356</td>\n",
              "      <td>1.522401</td>\n",
              "      <td>0.882808</td>\n",
              "      <td>-1.205349</td>\n",
              "      <td>0.681466</td>\n",
              "      <td>-1.070464</td>\n",
              "      <td>-0.921871</td>\n",
              "      <td>0.000000</td>\n",
              "      <td>0.800872</td>\n",
              "      <td>1.020974</td>\n",
              "      <td>0.971407</td>\n",
              "      <td>2.214872</td>\n",
              "      <td>0.596761</td>\n",
              "      <td>-0.350273</td>\n",
              "      <td>0.631194</td>\n",
              "      <td>0.000000</td>\n",
              "      <td>0.479999</td>\n",
              "      <td>-0.373566</td>\n",
              "      <td>0.113041</td>\n",
              "      <td>0.000000</td>\n",
              "      <td>0.755856</td>\n",
              "      <td>1.361057</td>\n",
              "      <td>0.986610</td>\n",
              "      <td>0.838085</td>\n",
              "      <td>1.133295</td>\n",
              "      <td>0.872245</td>\n",
              "      <td>0.808487</td>\n",
              "    </tr>\n",
              "  </tbody>\n",
              "</table>\n",
              "</div>"
            ],
            "text/plain": [
              "    0         1         2         3   ...        25        26        27        28\n",
              "0  1.0  0.869293 -0.635082  0.225690  ...  0.920005  0.721657  0.988751  0.876678\n",
              "1  1.0  0.907542  0.329147  0.359412  ...  0.978098  0.779732  0.992356  0.798343\n",
              "2  1.0  0.798835  1.470639 -1.635975  ...  0.951331  0.803252  0.865924  0.780118\n",
              "3  0.0  1.344385 -0.876626  0.935913  ...  0.728281  0.869200  1.026736  0.957904\n",
              "4  1.0  1.105009  0.321356  1.522401  ...  0.838085  1.133295  0.872245  0.808487\n",
              "\n",
              "[5 rows x 29 columns]"
            ]
          },
          "metadata": {
            "tags": []
          },
          "execution_count": 18
        }
      ]
    },
    {
      "cell_type": "code",
      "metadata": {
        "colab": {
          "base_uri": "https://localhost:8080/"
        },
        "id": "MFM253csKM0n",
        "outputId": "0a5ac749-4137-4093-e999-64c390f4312c"
      },
      "source": [
        "data[0].value_counts()"
      ],
      "execution_count": null,
      "outputs": [
        {
          "output_type": "execute_result",
          "data": {
            "text/plain": [
              "1.0    3178345\n",
              "0.0    2821655\n",
              "Name: 0, dtype: int64"
            ]
          },
          "metadata": {
            "tags": []
          },
          "execution_count": 19
        }
      ]
    },
    {
      "cell_type": "code",
      "metadata": {
        "colab": {
          "base_uri": "https://localhost:8080/"
        },
        "id": "eborpIT6Oq89",
        "outputId": "c73741fd-0bf7-4db6-ac07-3595b6aee313"
      },
      "source": [
        "data.dtypes.unique()"
      ],
      "execution_count": null,
      "outputs": [
        {
          "output_type": "execute_result",
          "data": {
            "text/plain": [
              "array([dtype('float64')], dtype=object)"
            ]
          },
          "metadata": {
            "tags": []
          },
          "execution_count": 20
        }
      ]
    },
    {
      "cell_type": "markdown",
      "metadata": {
        "id": "HEk6xlk5PCfm"
      },
      "source": [
        "### Setup"
      ]
    },
    {
      "cell_type": "code",
      "metadata": {
        "id": "58BZO2xRPBhZ"
      },
      "source": [
        "seed = 123\n",
        "\n",
        "import xgboost as xgb\n",
        "from xgboost import DMatrix\n",
        "from xgboost import XGBClassifier\n",
        "from sklearn.model_selection import train_test_split, RandomizedSearchCV, GridSearchCV\n",
        "from sklearn.metrics import classification_report, confusion_matrix, roc_curve, roc_auc_score\n",
        "import matplotlib.pyplot as plt\n",
        "import seaborn as sns"
      ],
      "execution_count": null,
      "outputs": []
    },
    {
      "cell_type": "code",
      "metadata": {
        "id": "2NIY3RACV4G7"
      },
      "source": [
        "def show_score(y_true, y_pred_proba, name='', cm=False, roc=True):\n",
        "  y_pred = y_pred_proba.round()\n",
        "  print('_'*40 + name+' data' + '_'*40)\n",
        "  # print('Accuracy: ', accuracy_score(y_true, y_pred), end='\\n'*2)\n",
        "  print('Classification Report:')\n",
        "  print(classification_report(y_true, y_pred), end='\\n')\n",
        "  print('-'*80)\n",
        "  print('ROC AUC Score:')\n",
        "  print(roc_auc_score(y_true, y_pred_proba))\n",
        "  print('-'*80)\n",
        "  \n",
        "  fig, (ax1, ax2) = plt.subplots(1, 2, figsize=(14, 5))\n",
        "  if cm:\n",
        "    cm = confusion_matrix(y_true, y_pred)\n",
        "    sns.heatmap(cm, annot=True, fmt='.2f', xticklabels=['Predicted 0', 'Predicted 1'],\n",
        "                yticklabels=['Actual 0', 'Actual 1'], ax=ax1);\n",
        "    ax1.set_title('Confusion Matrix')\n",
        "\n",
        "  if roc:\n",
        "    fpr, tpr, th = roc_curve(y_true, y_pred_proba)  \n",
        "    ax2.set_title('ROC Curve')\n",
        "    ax2.set_ylabel('True Positive Rate')\n",
        "    ax2.set_xlabel('False Positive Rate')\n",
        "    ax2.plot(fpr, tpr, linestyle='--');\n",
        "  plt.show()\n",
        "  print('-'*80)"
      ],
      "execution_count": null,
      "outputs": []
    },
    {
      "cell_type": "markdown",
      "metadata": {
        "id": "ZkR4sGxDPG1u"
      },
      "source": [
        "### prepare input data"
      ]
    },
    {
      "cell_type": "code",
      "metadata": {
        "id": "YCuz4ZntPI0G"
      },
      "source": [
        "test_size = 500000\n",
        "train_size = data.shape[0] - test_size\n",
        "\n",
        "# train set\n",
        "X_train = data.iloc[: train_size, 1:]\n",
        "y_train = data.iloc[: train_size, 0]\n",
        "\n",
        "# test set\n",
        "X_test = data.iloc[-test_size:, 1:]\n",
        "y_test = data.iloc[-test_size:, 0]"
      ],
      "execution_count": null,
      "outputs": []
    },
    {
      "cell_type": "code",
      "metadata": {
        "colab": {
          "base_uri": "https://localhost:8080/"
        },
        "id": "pKBYFtUrVIO0",
        "outputId": "03e3eb73-071d-4c51-eac1-b664b2ff1e87"
      },
      "source": [
        "X_train.shape, y_train.shape, X_test.shape, y_test.shape"
      ],
      "execution_count": null,
      "outputs": [
        {
          "output_type": "execute_result",
          "data": {
            "text/plain": [
              "((5500000, 28), (5500000,), (500000, 28), (500000,))"
            ]
          },
          "metadata": {
            "tags": []
          },
          "execution_count": 24
        }
      ]
    },
    {
      "cell_type": "code",
      "metadata": {
        "id": "Sev7nGr12V7E"
      },
      "source": [
        "dtrain = DMatrix(data=X_train, label=y_train)\n",
        "dtest = DMatrix(data=X_test, label=y_test)"
      ],
      "execution_count": null,
      "outputs": []
    },
    {
      "cell_type": "markdown",
      "metadata": {
        "id": "2qVOqfv6V90q"
      },
      "source": [
        "### Train (XGBoost)"
      ]
    },
    {
      "cell_type": "code",
      "metadata": {
        "id": "D9qJScaY3F05"
      },
      "source": [
        "params = {'objective': 'binary:logistic', 'eval_metric': 'auc', 'seed': seed, \n",
        "          'max_depth': 8, 'eta': 0.3, 'tree_method': 'gpu_hist', 'gpu_id': 0}"
      ],
      "execution_count": null,
      "outputs": []
    },
    {
      "cell_type": "code",
      "metadata": {
        "id": "xcVJReYf3FtZ"
      },
      "source": [
        "clf = xgb.train(params=params, dtrain=dtrain, num_boost_round=350)  "
      ],
      "execution_count": null,
      "outputs": []
    },
    {
      "cell_type": "code",
      "metadata": {
        "id": "vzYSyGsN4LaA"
      },
      "source": [
        "y_pred_train_proba = clf.predict(dtrain)\n",
        "y_pred_test_proba = clf.predict(dtest)"
      ],
      "execution_count": null,
      "outputs": []
    },
    {
      "cell_type": "markdown",
      "metadata": {
        "id": "k3zDSotDH1AC"
      },
      "source": [
        "### Results"
      ]
    },
    {
      "cell_type": "code",
      "metadata": {
        "id": "9MJ5AIAlSq0z",
        "colab": {
          "base_uri": "https://localhost:8080/"
        },
        "outputId": "05d77634-f0eb-4728-f990-72e6d019a66d"
      },
      "source": [
        "show_score(y_train, y_pred_train_proba, name='Train', cm=False)"
      ],
      "execution_count": null,
      "outputs": [
        {
          "output_type": "stream",
          "text": [
            "________________________________________Train data________________________________________\n",
            "Classification Report:\n",
            "              precision    recall  f1-score   support\n",
            "\n",
            "         0.0       0.77      0.75      0.76   2586725\n",
            "         1.0       0.79      0.81      0.80   2913275\n",
            "\n",
            "    accuracy                           0.78   5500000\n",
            "   macro avg       0.78      0.78      0.78   5500000\n",
            "weighted avg       0.78      0.78      0.78   5500000\n",
            "\n",
            "--------------------------------------------------------------------------------\n",
            "ROC AUC Score:\n",
            "0.866308523866095\n",
            "--------------------------------------------------------------------------------\n"
          ],
          "name": "stdout"
        },
        {
          "output_type": "display_data",
          "data": {
            "image/png": "[encoded data removed]",
            "text/plain": [
              "<Figure size 1008x360 with 2 Axes>"
            ]
          },
          "metadata": {
            "tags": [],
            "needs_background": "light"
          }
        },
        {
          "output_type": "stream",
          "text": [
            "--------------------------------------------------------------------------------\n"
          ],
          "name": "stdout"
        }
      ]
    },
    {
      "cell_type": "markdown",
      "metadata": {
        "id": "6EGafCNCQ0Vj"
      },
      "source": [
        "##### Performance on untouched test set (last 500K samples)"
      ]
    },
    {
      "cell_type": "code",
      "metadata": {
        "id": "6WlDek6XnH5y",
        "colab": {
          "base_uri": "https://localhost:8080/"
        },
        "outputId": "6f4a188a-2508-4dfe-a2e2-6c55f7b9e4ad"
      },
      "source": [
        "show_score(y_test, y_pred_test_proba, name='Test', cm=True)"
      ],
      "execution_count": null,
      "outputs": [
        {
          "output_type": "stream",
          "text": [
            "________________________________________Test data________________________________________\n",
            "Classification Report:\n",
            "              precision    recall  f1-score   support\n",
            "\n",
            "         0.0       0.75      0.73      0.74    234930\n",
            "         1.0       0.77      0.78      0.78    265070\n",
            "\n",
            "    accuracy                           0.76    500000\n",
            "   macro avg       0.76      0.76      0.76    500000\n",
            "weighted avg       0.76      0.76      0.76    500000\n",
            "\n",
            "--------------------------------------------------------------------------------\n",
            "ROC AUC Score:\n",
            "0.8430741138771947\n",
            "--------------------------------------------------------------------------------\n"
          ],
          "name": "stdout"
        },
        {
          "output_type": "display_data",
          "data": {
            "image/png": "[encoded data removed]",
            "text/plain": [
              "<Figure size 1008x360 with 3 Axes>"
            ]
          },
          "metadata": {
            "tags": [],
            "needs_background": "light"
          }
        },
        {
          "output_type": "stream",
          "text": [
            "--------------------------------------------------------------------------------\n"
          ],
          "name": "stdout"
        }
      ]
    },
    {
      "cell_type": "markdown",
      "metadata": {
        "id": "JAaBq_01HNm0"
      },
      "source": [
        "### Autoencoder, reducing dimensions from 28 to 14"
      ]
    },
    {
      "cell_type": "code",
      "metadata": {
        "id": "HsNeDzZIyF54"
      },
      "source": [
        "from sklearn.preprocessing import RobustScaler \n",
        "from tensorflow.keras.layers import Dense, Input, BatchNormalization, LeakyReLU\n",
        "from tensorflow.keras import Model\n",
        "from tensorflow.keras.optimizers import Adam"
      ],
      "execution_count": null,
      "outputs": []
    },
    {
      "cell_type": "code",
      "metadata": {
        "id": "2M8s29ENTmko",
        "colab": {
          "base_uri": "https://localhost:8080/"
        },
        "outputId": "c11ff930-ff4a-464c-ad66-2c98cb866fce"
      },
      "source": [
        "# RobustScaler\n",
        "scaler = RobustScaler()  \n",
        "X_train_scl = scaler.fit_transform(X_train)\n",
        "X_test_scl = scaler.transform(X_test)\n",
        "\n",
        "n_dim = X_train_scl.shape[1]\n",
        "n_dim_red = 14\n",
        "\n",
        "X_train_scl.shape, X_test_scl.shape"
      ],
      "execution_count": null,
      "outputs": [
        {
          "output_type": "execute_result",
          "data": {
            "text/plain": [
              "((5500000, 28), (500000, 28))"
            ]
          },
          "metadata": {
            "tags": []
          },
          "execution_count": 34
        }
      ]
    },
    {
      "cell_type": "code",
      "metadata": {
        "id": "o-XP6hayT68l"
      },
      "source": [
        "input = Input(shape=(n_dim))\n",
        "\n",
        "# encoder\n",
        "encoder = Dense(n_dim * 2)(input)\n",
        "encoder = BatchNormalization()(encoder)\n",
        "encoder = LeakyReLU()(encoder)\n",
        "\n",
        "encoder = Dense(n_dim)(encoder)\n",
        "encoder = BatchNormalization()(encoder)\n",
        "encoder = LeakyReLU()(encoder)\n",
        "\n",
        "encoder = Dense(n_dim_red)(encoder)\n",
        "\n",
        "\n",
        "# decoder\n",
        "decoder = Dense(n_dim)(encoder)\n",
        "decoder = BatchNormalization()(decoder)\n",
        "decoder = LeakyReLU()(decoder)\n",
        "\n",
        "decoder = Dense(n_dim * 2)(decoder)\n",
        "decoder = BatchNormalization()(decoder)\n",
        "decoder = LeakyReLU()(decoder)\n",
        "\n",
        "decoder = Dense(n_dim)(decoder)\n",
        "\n",
        "model = Model(inputs=input, outputs=decoder)\n",
        "\n",
        "encoder = Model(inputs=input, outputs=encoder)"
      ],
      "execution_count": null,
      "outputs": []
    },
    {
      "cell_type": "code",
      "metadata": {
        "id": "tOYLwf29xfmI",
        "colab": {
          "base_uri": "https://localhost:8080/"
        },
        "outputId": "c324af4e-d963-4214-bd54-1b4d872c4b9a"
      },
      "source": [
        "# the loss is Mean Squared Error, lower the better it is\n",
        "opt = Adam(learning_rate=0.001)\n",
        "model.compile(optimizer=opt, loss='mse')\n",
        "\n",
        "model.fit(x=X_train_scl, y=X_train_scl, \n",
        "          batch_size=128, epochs=30,\n",
        "          validation_data=(X_test_scl, X_test_scl))"
      ],
      "execution_count": null,
      "outputs": [
        {
          "output_type": "stream",
          "text": [
            "Epoch 1/30\n",
            "42969/42969 [==============================] - 169s 4ms/step - loss: 0.1930 - val_loss: 0.1084\n",
            "Epoch 2/30\n",
            "42969/42969 [==============================] - 167s 4ms/step - loss: 0.1188 - val_loss: 0.0939\n",
            "Epoch 3/30\n",
            "42969/42969 [==============================] - 166s 4ms/step - loss: 0.1019 - val_loss: 0.0858\n",
            "Epoch 4/30\n",
            "42969/42969 [==============================] - 163s 4ms/step - loss: 0.0969 - val_loss: 0.0851\n",
            "Epoch 5/30\n",
            "42969/42969 [==============================] - 163s 4ms/step - loss: 0.0939 - val_loss: 0.0829\n",
            "Epoch 6/30\n",
            "42969/42969 [==============================] - 163s 4ms/step - loss: 0.0907 - val_loss: 0.0805\n",
            "Epoch 7/30\n",
            "42969/42969 [==============================] - 163s 4ms/step - loss: 0.0871 - val_loss: 0.0762\n",
            "Epoch 8/30\n",
            "42969/42969 [==============================] - 162s 4ms/step - loss: 0.0846 - val_loss: 0.0744\n",
            "Epoch 9/30\n",
            "42969/42969 [==============================] - 163s 4ms/step - loss: 0.0829 - val_loss: 0.0761\n",
            "Epoch 10/30\n",
            "42969/42969 [==============================] - 163s 4ms/step - loss: 0.0815 - val_loss: 0.0778\n",
            "Epoch 11/30\n",
            "42969/42969 [==============================] - 162s 4ms/step - loss: 0.0808 - val_loss: 0.0750\n",
            "Epoch 12/30\n",
            "42969/42969 [==============================] - 162s 4ms/step - loss: 0.0802 - val_loss: 0.0734\n",
            "Epoch 13/30\n",
            "42969/42969 [==============================] - 162s 4ms/step - loss: 0.0798 - val_loss: 0.0742\n",
            "Epoch 14/30\n",
            "42969/42969 [==============================] - 162s 4ms/step - loss: 0.0795 - val_loss: 0.0708\n",
            "Epoch 15/30\n",
            "42969/42969 [==============================] - 163s 4ms/step - loss: 0.0793 - val_loss: 0.0700\n",
            "Epoch 16/30\n",
            "42969/42969 [==============================] - 162s 4ms/step - loss: 0.0788 - val_loss: 0.0706\n",
            "Epoch 17/30\n",
            "42969/42969 [==============================] - 163s 4ms/step - loss: 0.0787 - val_loss: 0.0699\n",
            "Epoch 18/30\n",
            "42969/42969 [==============================] - 162s 4ms/step - loss: 0.0784 - val_loss: 0.0715\n",
            "Epoch 19/30\n",
            "42969/42969 [==============================] - 163s 4ms/step - loss: 0.0784 - val_loss: 0.0682\n",
            "Epoch 20/30\n",
            "42969/42969 [==============================] - 162s 4ms/step - loss: 0.0782 - val_loss: 0.0693\n",
            "Epoch 21/30\n",
            "42969/42969 [==============================] - 163s 4ms/step - loss: 0.0780 - val_loss: 0.0733\n",
            "Epoch 22/30\n",
            "42969/42969 [==============================] - 163s 4ms/step - loss: 0.0780 - val_loss: 0.0724\n",
            "Epoch 23/30\n",
            "42969/42969 [==============================] - 163s 4ms/step - loss: 0.0779 - val_loss: 0.0724\n",
            "Epoch 24/30\n",
            "42969/42969 [==============================] - 163s 4ms/step - loss: 0.0780 - val_loss: 0.0741\n",
            "Epoch 25/30\n",
            "42969/42969 [==============================] - 162s 4ms/step - loss: 0.0778 - val_loss: 0.0725\n",
            "Epoch 26/30\n",
            "42969/42969 [==============================] - 163s 4ms/step - loss: 0.0776 - val_loss: 0.0720\n",
            "Epoch 27/30\n",
            "42969/42969 [==============================] - 163s 4ms/step - loss: 0.0776 - val_loss: 0.0713\n",
            "Epoch 28/30\n",
            "42969/42969 [==============================] - 164s 4ms/step - loss: 0.0774 - val_loss: 0.0708\n",
            "Epoch 29/30\n",
            "42969/42969 [==============================] - 162s 4ms/step - loss: 0.0772 - val_loss: 0.0705\n",
            "Epoch 30/30\n",
            "42969/42969 [==============================] - 163s 4ms/step - loss: 0.0770 - val_loss: 0.0691\n"
          ],
          "name": "stdout"
        },
        {
          "output_type": "execute_result",
          "data": {
            "text/plain": [
              "<tensorflow.python.keras.callbacks.History at 0x7f9ec440ce90>"
            ]
          },
          "metadata": {
            "tags": []
          },
          "execution_count": 36
        }
      ]
    },
    {
      "cell_type": "markdown",
      "metadata": {
        "id": "hsW-YSr6GvjI"
      },
      "source": [
        "### prepare input data"
      ]
    },
    {
      "cell_type": "code",
      "metadata": {
        "id": "yUvee3otF1rv"
      },
      "source": [
        "X_train_red = encoder.predict(X_train_scl, batch_size=128)\n",
        "X_test_red = encoder.predict(X_test_scl, batch_size=128)"
      ],
      "execution_count": null,
      "outputs": []
    },
    {
      "cell_type": "code",
      "metadata": {
        "id": "8ehxzEJoGa9R",
        "colab": {
          "base_uri": "https://localhost:8080/"
        },
        "outputId": "7aff4d3a-4715-483c-ac95-6003971b118a"
      },
      "source": [
        "X_train_red.shape, X_test_red.shape"
      ],
      "execution_count": null,
      "outputs": [
        {
          "output_type": "execute_result",
          "data": {
            "text/plain": [
              "((5500000, 14), (500000, 14))"
            ]
          },
          "metadata": {
            "tags": []
          },
          "execution_count": 38
        }
      ]
    },
    {
      "cell_type": "code",
      "metadata": {
        "id": "_y23Y8mZGvjK"
      },
      "source": [
        "dtrain_red = DMatrix(data=X_train_red, label=y_train)\n",
        "dtest_red = DMatrix(data=X_test_red, label=y_test)"
      ],
      "execution_count": null,
      "outputs": []
    },
    {
      "cell_type": "markdown",
      "metadata": {
        "id": "SuqZwmp_GoYB"
      },
      "source": [
        "### Train"
      ]
    },
    {
      "cell_type": "code",
      "metadata": {
        "id": "vFiRRldlGoYD"
      },
      "source": [
        "params = {'objective': 'binary:logistic', 'eval_metric': 'auc', 'seed': seed, \n",
        "          'max_depth': 6, 'alpha':10, 'eta': 0.3, 'tree_method': 'gpu_hist', 'gpu_id': 0}"
      ],
      "execution_count": null,
      "outputs": []
    },
    {
      "cell_type": "code",
      "metadata": {
        "id": "rkt5oMGbbKD2"
      },
      "source": [
        "clf_red = xgb.train(params=params, dtrain=dtrain_red, num_boost_round=1000)"
      ],
      "execution_count": null,
      "outputs": []
    },
    {
      "cell_type": "code",
      "metadata": {
        "id": "S0ckAeW8GoYE"
      },
      "source": [
        "y_pred_train_proba = clf_red.predict(dtrain_red)\n",
        "y_pred_test_proba = clf_red.predict(dtest_red)"
      ],
      "execution_count": null,
      "outputs": []
    },
    {
      "cell_type": "markdown",
      "metadata": {
        "id": "WpHSybncx3Z-"
      },
      "source": [
        "### Results"
      ]
    },
    {
      "cell_type": "code",
      "metadata": {
        "id": "oGKxVojlx3Z_",
        "colab": {
          "base_uri": "https://localhost:8080/",
          "height": 638
        },
        "outputId": "6fb3c753-a368-420f-a8c8-a2a0391add5c"
      },
      "source": [
        "show_score(y_train, y_pred_train_proba, name='Train', cm=False)"
      ],
      "execution_count": null,
      "outputs": [
        {
          "output_type": "stream",
          "text": [
            "________________________________________Train data________________________________________\n",
            "Classification Report:\n",
            "              precision    recall  f1-score   support\n",
            "\n",
            "         0.0       0.70      0.61      0.65   2586725\n",
            "         1.0       0.69      0.77      0.73   2913275\n",
            "\n",
            "    accuracy                           0.70   5500000\n",
            "   macro avg       0.70      0.69      0.69   5500000\n",
            "weighted avg       0.70      0.70      0.69   5500000\n",
            "\n",
            "--------------------------------------------------------------------------------\n",
            "ROC AUC Score:\n",
            "0.7656345023136812\n",
            "--------------------------------------------------------------------------------\n"
          ],
          "name": "stdout"
        },
        {
          "output_type": "display_data",
          "data": {
            "image/png": "[encoded data removed]",
            "text/plain": [
              "<Figure size 1008x360 with 2 Axes>"
            ]
          },
          "metadata": {
            "tags": [],
            "needs_background": "light"
          }
        },
        {
          "output_type": "stream",
          "text": [
            "--------------------------------------------------------------------------------\n"
          ],
          "name": "stdout"
        }
      ]
    },
    {
      "cell_type": "markdown",
      "metadata": {
        "id": "ApXRwWcSx3aA"
      },
      "source": [
        "##### Performance on untouched test set (last 500K samples) with low dimensional features (dimensions=14)"
      ]
    },
    {
      "cell_type": "code",
      "metadata": {
        "colab": {
          "base_uri": "https://localhost:8080/",
          "height": 638
        },
        "id": "BVlbIg6Wx3aA",
        "outputId": "b041311b-eb99-4da6-f03b-d0aa4e9f47ca"
      },
      "source": [
        "show_score(y_test, y_pred_test_proba, name='Test', cm=True)"
      ],
      "execution_count": null,
      "outputs": [
        {
          "output_type": "stream",
          "text": [
            "________________________________________Test data________________________________________\n",
            "Classification Report:\n",
            "              precision    recall  f1-score   support\n",
            "\n",
            "         0.0       0.67      0.59      0.63    234930\n",
            "         1.0       0.67      0.75      0.71    265070\n",
            "\n",
            "    accuracy                           0.67    500000\n",
            "   macro avg       0.67      0.67      0.67    500000\n",
            "weighted avg       0.67      0.67      0.67    500000\n",
            "\n",
            "--------------------------------------------------------------------------------\n",
            "ROC AUC Score:\n",
            "0.736416256396276\n",
            "--------------------------------------------------------------------------------\n"
          ],
          "name": "stdout"
        },
        {
          "output_type": "display_data",
          "data": {
            "image/png": "[encoded data removed]",
            "text/plain": [
              "<Figure size 1008x360 with 3 Axes>"
            ]
          },
          "metadata": {
            "tags": [],
            "needs_background": "light"
          }
        },
        {
          "output_type": "stream",
          "text": [
            "--------------------------------------------------------------------------------\n"
          ],
          "name": "stdout"
        }
      ]
    },
    {
      "cell_type": "markdown",
      "metadata": {
        "id": "CF5rjmf8tanx"
      },
      "source": [
        "- On test data, with original features (dimensions=28), ROC AUC Score = 0.8430741138771947\n",
        "- On test data, with low dimensional features (dimensions=14), ROC AUC Score = 0.736416256396276"
      ]
    },
    {
      "cell_type": "markdown",
      "metadata": {
        "id": "RlgGHnAcwhoi"
      },
      "source": [
        "#### Pipeline:\n",
        "original features -> Robust scaler -> low dimensional features -> DMatrix -> XGBoost"
      ]
    }
  ]
}