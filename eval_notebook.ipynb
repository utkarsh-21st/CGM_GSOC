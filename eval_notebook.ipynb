{
 "cells": [
  {
   "cell_type": "markdown",
   "metadata": {
    "id": "OzSxt65G11vJ"
   },
   "source": [
    "# Task 1: Ion Identification"
   ]
  },
  {
   "cell_type": "markdown",
   "metadata": {
    "id": "Tt2s1bqs4aeW"
   },
   "source": [
    "## A.)"
   ]
  },
  {
   "cell_type": "markdown",
   "metadata": {
    "id": "ZqK3nWMk4ybS"
   },
   "source": [
    "A -> Oxygen, O II\t\n",
    "\n",
    "B -> Carbon, C II\n",
    "\n",
    "C -> Hydrogen, H I\t\n",
    "\n",
    "D -> Carbon, C II\t\n",
    "\n",
    "E -> Nitrogen, N II\n",
    "\n",
    "F -> Hydrogen, H I\n",
    "\n",
    "G -> Oxygen, O I \n",
    "\n",
    "H -> Carbon, C I and C II\t"
   ]
  },
  {
   "cell_type": "markdown",
   "metadata": {
    "id": "YQ4EO3Jc8tXA"
   },
   "source": [
    "## B.)"
   ]
  },
  {
   "cell_type": "markdown",
   "metadata": {
    "id": "CMHP7QUathqb"
   },
   "source": [
    "#### How are the lines in feature C related? "
   ]
  },
  {
   "cell_type": "code",
   "execution_count": null,
   "metadata": {
    "id": "LAX76fe_OP7O"
   },
   "outputs": [],
   "source": [
    "import math\n",
    "import matplotlib.pyplot as plt\n",
    "import seaborn as sns"
   ]
  },
  {
   "cell_type": "code",
   "execution_count": null,
   "metadata": {
    "id": "0fJ7IR5kOJBP"
   },
   "outputs": [],
   "source": [
    "# constants\n",
    "Rh = 1.0968 * (10**7)  # m^-1\n",
    "\n",
    "\n",
    "# Helper functions\n",
    "def get_lam_lyman(n):\n",
    "  '''\n",
    "    Using Rydberg formula\n",
    "    return the wavelength corresponding to the transition of electron from 1 to n (ground state to nth energy state)\n",
    "  '''\n",
    "  lam = (1 / (Rh * (1 - (1 / (n**2))))) * (10**10)  # 10**10 to angstrom\n",
    "  return lam"
   ]
  },
  {
   "cell_type": "code",
   "execution_count": null,
   "metadata": {
    "colab": {
     "base_uri": "https://localhost:8080/"
    },
    "executionInfo": {
     "elapsed": 4526,
     "status": "ok",
     "timestamp": 1618213686462,
     "user": {
      "displayName": "Utkarsh",
      "photoUrl": "https://lh3.googleusercontent.com/-gplhvKJjZdQ/AAAAAAAAAAI/AAAAAAAAEhA/cT_zmta4k_Q/s64/photo.jpg",
      "userId": "09628245901381158092"
     },
     "user_tz": -330
    },
    "id": "7yq4Eil_4q-w",
    "outputId": "8e576d05-528c-4de3-8ee0-2d7ce13ded69"
   },
   "outputs": [
    {
     "data": {
      "text/plain": [
       "['2 to 1, lambda (in Å) = 1215.6576707999027',\n",
       " '3 to 1, lambda (in Å) = 1025.711159737418',\n",
       " '4 to 1, lambda (in Å) = 972.5261366399221',\n",
       " '5 to 1, lambda (in Å) = 949.732555312424',\n",
       " '6 to 1, lambda (in Å) = 937.7930603313536',\n",
       " '7 to 1, lambda (in Å) = 930.7379042061755',\n",
       " '8 to 1, lambda (in Å) = 926.2153682284974',\n",
       " '9 to 1, lambda (in Å) = 923.1400437636762',\n",
       " '10 to 1, lambda (in Å) = 920.9527809090172',\n",
       " '11 to 1, lambda (in Å) = 919.3411135424263',\n",
       " '12 to 1, lambda (in Å) = 918.1190800446818',\n",
       " '13 to 1, lambda (in Å) = 917.1702962731409',\n",
       " '14 to 1, lambda (in Å) = 916.4188595260805',\n",
       " '15 to 1, lambda (in Å) = 915.8135354798376',\n",
       " '16 to 1, lambda (in Å) = 915.3187168375738',\n",
       " '17 to 1, lambda (in Å) = 914.9090282843019',\n",
       " '18 to 1, lambda (in Å) = 914.5659876296482',\n",
       " '19 to 1, lambda (in Å) = 914.2758732474268',\n",
       " '20 to 1, lambda (in Å) = 914.0283239097014',\n",
       " '21 to 1, lambda (in Å) = 913.8153968569723',\n",
       " '22 to 1, lambda (in Å) = 913.6309202906101',\n",
       " '23 to 1, lambda (in Å) = 913.4700395641314',\n",
       " '24 to 1, lambda (in Å) = 913.3288935401009',\n",
       " '25 to 1, lambda (in Å) = 913.2043801081',\n",
       " '26 to 1, lambda (in Å) = 913.0939838452603',\n",
       " '27 to 1, lambda (in Å) = 912.9956476783609',\n",
       " '28 to 1, lambda (in Å) = 912.9076761562487',\n",
       " '29 to 1, lambda (in Å) = 912.8286617345698',\n",
       " '30 to 1, lambda (in Å) = 912.7574280199492',\n",
       " '31 to 1, lambda (in Å) = 912.6929856552395',\n",
       " '32 to 1, lambda (in Å) = 912.6344977266133',\n",
       " '33 to 1, lambda (in Å) = 912.581252413438',\n",
       " '34 to 1, lambda (in Å) = 912.5326411978491',\n",
       " '35 to 1, lambda (in Å) = 912.4881413786035',\n",
       " '36 to 1, lambda (in Å) = 912.4473019440197',\n",
       " '37 to 1, lambda (in Å) = 912.4097320861111',\n",
       " '38 to 1, lambda (in Å) = 912.3750918061642',\n",
       " '39 to 1, lambda (in Å) = 912.3430841874928',\n",
       " '40 to 1, lambda (in Å) = 912.3134490055555',\n",
       " '41 to 1, lambda (in Å) = 912.2859574172485',\n",
       " '42 to 1, lambda (in Å) = 912.2604075259621',\n",
       " '43 to 1, lambda (in Å) = 912.2366206611283',\n",
       " '44 to 1, lambda (in Å) = 912.2144382436479',\n",
       " '45 to 1, lambda (in Å) = 912.1937191340674',\n",
       " '46 to 1, lambda (in Å) = 912.1743373803525',\n",
       " '47 to 1, lambda (in Å) = 912.1561802978889',\n",
       " '48 to 1, lambda (in Å) = 912.1391468268484',\n",
       " '49 to 1, lambda (in Å) = 912.123146122052']"
      ]
     },
     "execution_count": 3,
     "metadata": {
      "tags": []
     },
     "output_type": "execute_result"
    }
   ],
   "source": [
    "# values of wavelength corresponding to the transition of electron from 1 to n (Lyman series)\n",
    "# iterate n = 2 to 50\n",
    "[f'{n} to 1, lambda (in Å) = {get_lam_lyman(n)}' for n in range(2, 50)]"
   ]
  },
  {
   "cell_type": "markdown",
   "metadata": {
    "id": "kFUvCfTp4jxn"
   },
   "source": [
    "- All the lines in **C** correspond to wavelengths printed above, all which belongs to **lyman series**\n"
   ]
  },
  {
   "cell_type": "markdown",
   "metadata": {
    "id": "HrGRrwdY4bpt"
   },
   "source": [
    "#### what causes the plunge near 900 Angstroms"
   ]
  },
  {
   "cell_type": "markdown",
   "metadata": {
    "id": "M1yLY2ev2RNe"
   },
   "source": [
    "- Near 900 Å, high number of absorptions are hapenning by Hydrogen (lyman series)\n",
    "- There are many wavelengths near 900 Å at which absorption is happening which can be checked from above printed wavelength values"
   ]
  },
  {
   "cell_type": "markdown",
   "metadata": {
    "id": "AS3Cv-C8iT8H"
   },
   "source": [
    "# Task 2: Astrophysical Absorption Line Exercise"
   ]
  },
  {
   "cell_type": "markdown",
   "metadata": {
    "id": "nqCzl7LSIWSg"
   },
   "source": [
    "### setup"
   ]
  },
  {
   "cell_type": "code",
   "execution_count": null,
   "metadata": {
    "id": "BDbtRHo3IXyx"
   },
   "outputs": [],
   "source": [
    "# constants\n",
    "e = 4.8 * (10**(-10))\n",
    "f = 0.4164\n",
    "nh = 0.1\n",
    "x = 0.1\n",
    "g0 = 2\n",
    "gam = 6.265 * (10**8)\n",
    "m = 9.11 * (10**(-28))\n",
    "c = 3 * (10**10)\n",
    "z = 2\n",
    "\n",
    "\n",
    "# Helper Functions\n",
    "def I(lam, d, v0):\n",
    "  '''\n",
    "      lam: in angstrom\n",
    "      d: in cm\n",
    "      Intensity after passing through gas slab\n",
    "  '''\n",
    "  lam  = lam / (10**8)  # angstorm to cm\n",
    "  v = c / lam\n",
    "  num = (e**2) * f * nh * (1-x) * g0 * gam\n",
    "  den = 4 * math.pi * m * c * z * ((v-v0)**2 + (gam/(4*math.pi))**2)\n",
    "  alpha = num / den\n",
    "  return math.exp(-alpha * d)\n",
    "\n",
    "def plot_spectrum(d, v0):\n",
    "  lams = range(800, 1400)\n",
    "  Is = [I(lam, d, v0) for lam in lams]\n",
    "  plt.figure(figsize=(12, 5))\n",
    "  sns.lineplot(x=lams, y=Is)\n",
    "  plt.title(' '*40 + f'd = {d:.0e}, v0 = {v0:.6e}');"
   ]
  },
  {
   "cell_type": "markdown",
   "metadata": {
    "id": "iWBSAXasxyKd"
   },
   "source": [
    "## 1."
   ]
  },
  {
   "cell_type": "code",
   "execution_count": null,
   "metadata": {
    "id": "oyPZnvL81QIm"
   },
   "outputs": [],
   "source": [
    "v0 = 2.46607 * (10**15)"
   ]
  },
  {
   "cell_type": "code",
   "execution_count": null,
   "metadata": {
    "colab": {
     "base_uri": "https://localhost:8080/"
    },
    "executionInfo": {
     "elapsed": 4515,
     "status": "ok",
     "timestamp": 1618213686476,
     "user": {
      "displayName": "Utkarsh",
      "photoUrl": "https://lh3.googleusercontent.com/-gplhvKJjZdQ/AAAAAAAAAAI/AAAAAAAAEhA/cT_zmta4k_Q/s64/photo.jpg",
      "userId": "09628245901381158092"
     },
     "user_tz": -330
    },
    "id": "S_43AryS1EDu",
    "outputId": "b7a65231-b042-4164-aa63-0d8adcf6868a"
   },
   "outputs": [
    {
     "data": {
      "image/png": "[encoded data removed]",
      "text/plain": [
       "<Figure size 864x360 with 1 Axes>"
      ]
     },
     "metadata": {
      "needs_background": "light",
      "tags": []
     },
     "output_type": "display_data"
    }
   ],
   "source": [
    "d = 10**14\n",
    "plot_spectrum(d, v0)"
   ]
  },
  {
   "cell_type": "code",
   "execution_count": null,
   "metadata": {
    "colab": {
     "base_uri": "https://localhost:8080/"
    },
    "executionInfo": {
     "elapsed": 4502,
     "status": "ok",
     "timestamp": 1618213686479,
     "user": {
      "displayName": "Utkarsh",
      "photoUrl": "https://lh3.googleusercontent.com/-gplhvKJjZdQ/AAAAAAAAAAI/AAAAAAAAEhA/cT_zmta4k_Q/s64/photo.jpg",
      "userId": "09628245901381158092"
     },
     "user_tz": -330
    },
    "id": "3ti6oZm91TLU",
    "outputId": "560caa77-3bc2-4499-d4ca-8482472055f5"
   },
   "outputs": [
    {
     "data": {
      "image/png": "[encoded data removed]",
      "text/plain": [
       "<Figure size 864x360 with 1 Axes>"
      ]
     },
     "metadata": {
      "needs_background": "light",
      "tags": []
     },
     "output_type": "display_data"
    }
   ],
   "source": [
    "d = 10**18\n",
    "plot_spectrum(d, v0)"
   ]
  },
  {
   "cell_type": "code",
   "execution_count": null,
   "metadata": {
    "colab": {
     "base_uri": "https://localhost:8080/"
    },
    "executionInfo": {
     "elapsed": 4491,
     "status": "ok",
     "timestamp": 1618213686482,
     "user": {
      "displayName": "Utkarsh",
      "photoUrl": "https://lh3.googleusercontent.com/-gplhvKJjZdQ/AAAAAAAAAAI/AAAAAAAAEhA/cT_zmta4k_Q/s64/photo.jpg",
      "userId": "09628245901381158092"
     },
     "user_tz": -330
    },
    "id": "j8ismXUie69Z",
    "outputId": "f102ab78-d2c5-4fb8-a9bb-8a00e1e0dc5d"
   },
   "outputs": [
    {
     "data": {
      "image/png": "[encoded data removed]",
      "text/plain": [
       "<Figure size 864x360 with 1 Axes>"
      ]
     },
     "metadata": {
      "needs_background": "light",
      "tags": []
     },
     "output_type": "display_data"
    }
   ],
   "source": [
    "d = 10**21\n",
    "plot_spectrum(d, v0)"
   ]
  },
  {
   "cell_type": "markdown",
   "metadata": {
    "id": "H6uid677yx5U"
   },
   "source": [
    "## 2."
   ]
  },
  {
   "cell_type": "code",
   "execution_count": null,
   "metadata": {
    "id": "lU0QvQzLyyzS"
   },
   "outputs": [],
   "source": [
    "v0 = 2.46632 * (10**15)"
   ]
  },
  {
   "cell_type": "code",
   "execution_count": null,
   "metadata": {
    "colab": {
     "base_uri": "https://localhost:8080/"
    },
    "executionInfo": {
     "elapsed": 4478,
     "status": "ok",
     "timestamp": 1618213686491,
     "user": {
      "displayName": "Utkarsh",
      "photoUrl": "https://lh3.googleusercontent.com/-gplhvKJjZdQ/AAAAAAAAAAI/AAAAAAAAEhA/cT_zmta4k_Q/s64/photo.jpg",
      "userId": "09628245901381158092"
     },
     "user_tz": -330
    },
    "id": "6GSNTWShy7_d",
    "outputId": "02395427-263d-446b-fe00-7f4b32b8e811"
   },
   "outputs": [
    {
     "data": {
      "image/png": "[encoded data removed]",
      "text/plain": [
       "<Figure size 864x360 with 1 Axes>"
      ]
     },
     "metadata": {
      "needs_background": "light",
      "tags": []
     },
     "output_type": "display_data"
    }
   ],
   "source": [
    "d = 10**14\n",
    "plot_spectrum(d, v0)"
   ]
  },
  {
   "cell_type": "code",
   "execution_count": null,
   "metadata": {
    "colab": {
     "base_uri": "https://localhost:8080/"
    },
    "executionInfo": {
     "elapsed": 4465,
     "status": "ok",
     "timestamp": 1618213686493,
     "user": {
      "displayName": "Utkarsh",
      "photoUrl": "https://lh3.googleusercontent.com/-gplhvKJjZdQ/AAAAAAAAAAI/AAAAAAAAEhA/cT_zmta4k_Q/s64/photo.jpg",
      "userId": "09628245901381158092"
     },
     "user_tz": -330
    },
    "id": "HjZ7HdMly7_v",
    "outputId": "4aad3172-5aef-4330-b606-c64c7034cee3"
   },
   "outputs": [
    {
     "data": {
      "image/png": "[encoded data removed]",
      "text/plain": [
       "<Figure size 864x360 with 1 Axes>"
      ]
     },
     "metadata": {
      "needs_background": "light",
      "tags": []
     },
     "output_type": "display_data"
    }
   ],
   "source": [
    "d = 10**18\n",
    "plot_spectrum(d, v0)"
   ]
  },
  {
   "cell_type": "code",
   "execution_count": null,
   "metadata": {
    "colab": {
     "base_uri": "https://localhost:8080/"
    },
    "executionInfo": {
     "elapsed": 6260,
     "status": "ok",
     "timestamp": 1618213688305,
     "user": {
      "displayName": "Utkarsh",
      "photoUrl": "https://lh3.googleusercontent.com/-gplhvKJjZdQ/AAAAAAAAAAI/AAAAAAAAEhA/cT_zmta4k_Q/s64/photo.jpg",
      "userId": "09628245901381158092"
     },
     "user_tz": -330
    },
    "id": "Z9E6tPqay7_w",
    "outputId": "d44d578a-8120-477b-d8c6-f25138d3a2b0"
   },
   "outputs": [
    {
     "data": {
      "image/png": "[encoded data removed]",
      "text/plain": [
       "<Figure size 864x360 with 1 Axes>"
      ]
     },
     "metadata": {
      "needs_background": "light",
      "tags": []
     },
     "output_type": "display_data"
    }
   ],
   "source": [
    "d = 10**21\n",
    "plot_spectrum(d, v0)"
   ]
  },
  {
   "cell_type": "markdown",
   "metadata": {
    "id": "DRm1SDSv1xL4"
   },
   "source": [
    "## 3."
   ]
  },
  {
   "cell_type": "markdown",
   "metadata": {
    "id": "ZLEVSW4a2BNN"
   },
   "source": [
    "- At a given value of v0 and wavelength, as d (thickness of slab) increases, the magnitude of intensity drop due to absorption increases\n",
    "- For instance, at v0=v0=2.46607 * 10^15:\n",
    "- when d=10^14, intensity dropped from 1 to around 0.84\n",
    "- when d=10^18, intensity dropped from 1 to around 0.984\n",
    "- when d=10^21, intensity dropped from 1 to around 0"
   ]
  },
  {
   "cell_type": "markdown",
   "metadata": {
    "id": "gzdLFiuC2dA3"
   },
   "source": [
    "- At a given values of d, magnitude of drop in intensity due to absorption is more when v0=2.46632*10 ^ 15 than when v0=2.46607 * 10^15.\n",
    "- For instance, at d=10^14, in case when v0=2.46632 * 10^15, intensity drops from 1 to around 0.75 and when v0=2.46607 * 10^15 it drops from 1 to 0.84"
   ]
  },
  {
   "cell_type": "markdown",
   "metadata": {
    "id": "wH4ySFwxfrkS"
   },
   "source": [
    "- In each case, absorption occured at same wavelength at around 1216 Å"
   ]
  },
  {
   "cell_type": "markdown",
   "metadata": {
    "id": "48FnJ9RJ1tNF"
   },
   "source": [
    "# Task 3: Dimensionality Reduction Exercise\n",
    "Make sure to that your system has cuda enabled GPU to for faster XGBoost training. See [XgBoost GPU Support](https://xgboost.readthedocs.io/en/latest/gpu/index.html)"
   ]
  },
  {
   "cell_type": "markdown",
   "metadata": {
    "id": "1nCvtmMBRDtL"
   },
   "source": [
    "## A."
   ]
  },
  {
   "cell_type": "markdown",
   "metadata": {
    "id": "5lZKec9Q2KH5"
   },
   "source": [
    "### get data"
   ]
  },
  {
   "cell_type": "code",
   "execution_count": null,
   "metadata": {
    "id": "w10v2uJHHiRt"
   },
   "outputs": [],
   "source": [
    "import pandas as pd"
   ]
  },
  {
   "cell_type": "code",
   "execution_count": null,
   "metadata": {
    "id": "-QEnh66ZHv8k"
   },
   "outputs": [],
   "source": [
    "!cp /content/drive/MyDrive/colab/CGM_GSOC/HIGGS_6M.csv.gz /content/HIGGS_6M.csv.gz"
   ]
  },
  {
   "cell_type": "code",
   "execution_count": null,
   "metadata": {
    "id": "sXWxo0v_F0yR"
   },
   "outputs": [],
   "source": [
    "# '/content/drive/MyDrive/colab/CGM_GSOC/HIGGS_6M.csv.gz'\n",
    "data = pd.read_csv('/content/HIGGS_6M.csv.gz', compression='gzip', header=None)"
   ]
  },
  {
   "cell_type": "code",
   "execution_count": null,
   "metadata": {
    "colab": {
     "base_uri": "https://localhost:8080/"
    },
    "executionInfo": {
     "elapsed": 118702,
     "status": "ok",
     "timestamp": 1618213800776,
     "user": {
      "displayName": "Utkarsh",
      "photoUrl": "https://lh3.googleusercontent.com/-gplhvKJjZdQ/AAAAAAAAAAI/AAAAAAAAEhA/cT_zmta4k_Q/s64/photo.jpg",
      "userId": "09628245901381158092"
     },
     "user_tz": -330
    },
    "id": "DKnvkogcH0kz",
    "outputId": "bc6f3784-b978-4d9d-bee1-98a54c3e5c2b"
   },
   "outputs": [
    {
     "data": {
      "text/plain": [
       "(6000000, 29)"
      ]
     },
     "execution_count": 16,
     "metadata": {
      "tags": []
     },
     "output_type": "execute_result"
    }
   ],
   "source": [
    "data.shape"
   ]
  },
  {
   "cell_type": "code",
   "execution_count": null,
   "metadata": {
    "colab": {
     "base_uri": "https://localhost:8080/"
    },
    "executionInfo": {
     "elapsed": 118696,
     "status": "ok",
     "timestamp": 1618213800783,
     "user": {
      "displayName": "Utkarsh",
      "photoUrl": "https://lh3.googleusercontent.com/-gplhvKJjZdQ/AAAAAAAAAAI/AAAAAAAAEhA/cT_zmta4k_Q/s64/photo.jpg",
      "userId": "09628245901381158092"
     },
     "user_tz": -330
    },
    "id": "wPIaqFzSH1Sp",
    "outputId": "a02028fa-07f1-4a4e-aba0-ad3cdc18d1b7"
   },
   "outputs": [
    {
     "data": {
      "text/plain": [
       "0"
      ]
     },
     "execution_count": 17,
     "metadata": {
      "tags": []
     },
     "output_type": "execute_result"
    }
   ],
   "source": [
    "data.isna().sum().sum()"
   ]
  },
  {
   "cell_type": "code",
   "execution_count": null,
   "metadata": {
    "colab": {
     "base_uri": "https://localhost:8080/"
    },
    "executionInfo": {
     "elapsed": 118684,
     "status": "ok",
     "timestamp": 1618213800786,
     "user": {
      "displayName": "Utkarsh",
      "photoUrl": "https://lh3.googleusercontent.com/-gplhvKJjZdQ/AAAAAAAAAAI/AAAAAAAAEhA/cT_zmta4k_Q/s64/photo.jpg",
      "userId": "09628245901381158092"
     },
     "user_tz": -330
    },
    "id": "Sva0j-fHIfvO",
    "outputId": "86f2eaf0-23bf-472a-b367-44c6abeb7561"
   },
   "outputs": [
    {
     "data": {
      "text/html": [
       "<div>\n",
       "<style scoped>\n",
       "    .dataframe tbody tr th:only-of-type {\n",
       "        vertical-align: middle;\n",
       "    }\n",
       "\n",
       "    .dataframe tbody tr th {\n",
       "        vertical-align: top;\n",
       "    }\n",
       "\n",
       "    .dataframe thead th {\n",
       "        text-align: right;\n",
       "    }\n",
       "</style>\n",
       "<table border=\"1\" class=\"dataframe\">\n",
       "  <thead>\n",
       "    <tr style=\"text-align: right;\">\n",
       "      <th></th>\n",
       "      <th>0</th>\n",
       "      <th>1</th>\n",
       "      <th>2</th>\n",
       "      <th>3</th>\n",
       "      <th>4</th>\n",
       "      <th>5</th>\n",
       "      <th>6</th>\n",
       "      <th>7</th>\n",
       "      <th>8</th>\n",
       "      <th>9</th>\n",
       "      <th>10</th>\n",
       "      <th>11</th>\n",
       "      <th>12</th>\n",
       "      <th>13</th>\n",
       "      <th>14</th>\n",
       "      <th>15</th>\n",
       "      <th>16</th>\n",
       "      <th>17</th>\n",
       "      <th>18</th>\n",
       "      <th>19</th>\n",
       "      <th>20</th>\n",
       "      <th>21</th>\n",
       "      <th>22</th>\n",
       "      <th>23</th>\n",
       "      <th>24</th>\n",
       "      <th>25</th>\n",
       "      <th>26</th>\n",
       "      <th>27</th>\n",
       "      <th>28</th>\n",
       "    </tr>\n",
       "  </thead>\n",
       "  <tbody>\n",
       "    <tr>\n",
       "      <th>0</th>\n",
       "      <td>1.0</td>\n",
       "      <td>0.869293</td>\n",
       "      <td>-0.635082</td>\n",
       "      <td>0.225690</td>\n",
       "      <td>0.327470</td>\n",
       "      <td>-0.689993</td>\n",
       "      <td>0.754202</td>\n",
       "      <td>-0.248573</td>\n",
       "      <td>-1.092064</td>\n",
       "      <td>0.000000</td>\n",
       "      <td>1.374992</td>\n",
       "      <td>-0.653674</td>\n",
       "      <td>0.930349</td>\n",
       "      <td>1.107436</td>\n",
       "      <td>1.138904</td>\n",
       "      <td>-1.578198</td>\n",
       "      <td>-1.046985</td>\n",
       "      <td>0.000000</td>\n",
       "      <td>0.657930</td>\n",
       "      <td>-0.010455</td>\n",
       "      <td>-0.045767</td>\n",
       "      <td>3.101961</td>\n",
       "      <td>1.353760</td>\n",
       "      <td>0.979563</td>\n",
       "      <td>0.978076</td>\n",
       "      <td>0.920005</td>\n",
       "      <td>0.721657</td>\n",
       "      <td>0.988751</td>\n",
       "      <td>0.876678</td>\n",
       "    </tr>\n",
       "    <tr>\n",
       "      <th>1</th>\n",
       "      <td>1.0</td>\n",
       "      <td>0.907542</td>\n",
       "      <td>0.329147</td>\n",
       "      <td>0.359412</td>\n",
       "      <td>1.497970</td>\n",
       "      <td>-0.313010</td>\n",
       "      <td>1.095531</td>\n",
       "      <td>-0.557525</td>\n",
       "      <td>-1.588230</td>\n",
       "      <td>2.173076</td>\n",
       "      <td>0.812581</td>\n",
       "      <td>-0.213642</td>\n",
       "      <td>1.271015</td>\n",
       "      <td>2.214872</td>\n",
       "      <td>0.499994</td>\n",
       "      <td>-1.261432</td>\n",
       "      <td>0.732156</td>\n",
       "      <td>0.000000</td>\n",
       "      <td>0.398701</td>\n",
       "      <td>-1.138930</td>\n",
       "      <td>-0.000819</td>\n",
       "      <td>0.000000</td>\n",
       "      <td>0.302220</td>\n",
       "      <td>0.833048</td>\n",
       "      <td>0.985700</td>\n",
       "      <td>0.978098</td>\n",
       "      <td>0.779732</td>\n",
       "      <td>0.992356</td>\n",
       "      <td>0.798343</td>\n",
       "    </tr>\n",
       "    <tr>\n",
       "      <th>2</th>\n",
       "      <td>1.0</td>\n",
       "      <td>0.798835</td>\n",
       "      <td>1.470639</td>\n",
       "      <td>-1.635975</td>\n",
       "      <td>0.453773</td>\n",
       "      <td>0.425629</td>\n",
       "      <td>1.104875</td>\n",
       "      <td>1.282322</td>\n",
       "      <td>1.381664</td>\n",
       "      <td>0.000000</td>\n",
       "      <td>0.851737</td>\n",
       "      <td>1.540659</td>\n",
       "      <td>-0.819690</td>\n",
       "      <td>2.214872</td>\n",
       "      <td>0.993490</td>\n",
       "      <td>0.356080</td>\n",
       "      <td>-0.208778</td>\n",
       "      <td>2.548224</td>\n",
       "      <td>1.256955</td>\n",
       "      <td>1.128848</td>\n",
       "      <td>0.900461</td>\n",
       "      <td>0.000000</td>\n",
       "      <td>0.909753</td>\n",
       "      <td>1.108330</td>\n",
       "      <td>0.985692</td>\n",
       "      <td>0.951331</td>\n",
       "      <td>0.803252</td>\n",
       "      <td>0.865924</td>\n",
       "      <td>0.780118</td>\n",
       "    </tr>\n",
       "    <tr>\n",
       "      <th>3</th>\n",
       "      <td>0.0</td>\n",
       "      <td>1.344385</td>\n",
       "      <td>-0.876626</td>\n",
       "      <td>0.935913</td>\n",
       "      <td>1.992050</td>\n",
       "      <td>0.882454</td>\n",
       "      <td>1.786066</td>\n",
       "      <td>-1.646778</td>\n",
       "      <td>-0.942383</td>\n",
       "      <td>0.000000</td>\n",
       "      <td>2.423265</td>\n",
       "      <td>-0.676016</td>\n",
       "      <td>0.736159</td>\n",
       "      <td>2.214872</td>\n",
       "      <td>1.298720</td>\n",
       "      <td>-1.430738</td>\n",
       "      <td>-0.364658</td>\n",
       "      <td>0.000000</td>\n",
       "      <td>0.745313</td>\n",
       "      <td>-0.678379</td>\n",
       "      <td>-1.360356</td>\n",
       "      <td>0.000000</td>\n",
       "      <td>0.946652</td>\n",
       "      <td>1.028704</td>\n",
       "      <td>0.998656</td>\n",
       "      <td>0.728281</td>\n",
       "      <td>0.869200</td>\n",
       "      <td>1.026736</td>\n",
       "      <td>0.957904</td>\n",
       "    </tr>\n",
       "    <tr>\n",
       "      <th>4</th>\n",
       "      <td>1.0</td>\n",
       "      <td>1.105009</td>\n",
       "      <td>0.321356</td>\n",
       "      <td>1.522401</td>\n",
       "      <td>0.882808</td>\n",
       "      <td>-1.205349</td>\n",
       "      <td>0.681466</td>\n",
       "      <td>-1.070464</td>\n",
       "      <td>-0.921871</td>\n",
       "      <td>0.000000</td>\n",
       "      <td>0.800872</td>\n",
       "      <td>1.020974</td>\n",
       "      <td>0.971407</td>\n",
       "      <td>2.214872</td>\n",
       "      <td>0.596761</td>\n",
       "      <td>-0.350273</td>\n",
       "      <td>0.631194</td>\n",
       "      <td>0.000000</td>\n",
       "      <td>0.479999</td>\n",
       "      <td>-0.373566</td>\n",
       "      <td>0.113041</td>\n",
       "      <td>0.000000</td>\n",
       "      <td>0.755856</td>\n",
       "      <td>1.361057</td>\n",
       "      <td>0.986610</td>\n",
       "      <td>0.838085</td>\n",
       "      <td>1.133295</td>\n",
       "      <td>0.872245</td>\n",
       "      <td>0.808487</td>\n",
       "    </tr>\n",
       "  </tbody>\n",
       "</table>\n",
       "</div>"
      ],
      "text/plain": [
       "    0         1         2         3   ...        25        26        27        28\n",
       "0  1.0  0.869293 -0.635082  0.225690  ...  0.920005  0.721657  0.988751  0.876678\n",
       "1  1.0  0.907542  0.329147  0.359412  ...  0.978098  0.779732  0.992356  0.798343\n",
       "2  1.0  0.798835  1.470639 -1.635975  ...  0.951331  0.803252  0.865924  0.780118\n",
       "3  0.0  1.344385 -0.876626  0.935913  ...  0.728281  0.869200  1.026736  0.957904\n",
       "4  1.0  1.105009  0.321356  1.522401  ...  0.838085  1.133295  0.872245  0.808487\n",
       "\n",
       "[5 rows x 29 columns]"
      ]
     },
     "execution_count": 18,
     "metadata": {
      "tags": []
     },
     "output_type": "execute_result"
    }
   ],
   "source": [
    "data.head()"
   ]
  },
  {
   "cell_type": "code",
   "execution_count": null,
   "metadata": {
    "colab": {
     "base_uri": "https://localhost:8080/"
    },
    "executionInfo": {
     "elapsed": 119543,
     "status": "ok",
     "timestamp": 1618213801656,
     "user": {
      "displayName": "Utkarsh",
      "photoUrl": "https://lh3.googleusercontent.com/-gplhvKJjZdQ/AAAAAAAAAAI/AAAAAAAAEhA/cT_zmta4k_Q/s64/photo.jpg",
      "userId": "09628245901381158092"
     },
     "user_tz": -330
    },
    "id": "MFM253csKM0n",
    "outputId": "0a5ac749-4137-4093-e999-64c390f4312c"
   },
   "outputs": [
    {
     "data": {
      "text/plain": [
       "1.0    3178345\n",
       "0.0    2821655\n",
       "Name: 0, dtype: int64"
      ]
     },
     "execution_count": 19,
     "metadata": {
      "tags": []
     },
     "output_type": "execute_result"
    }
   ],
   "source": [
    "data[0].value_counts()"
   ]
  },
  {
   "cell_type": "code",
   "execution_count": null,
   "metadata": {
    "colab": {
     "base_uri": "https://localhost:8080/"
    },
    "executionInfo": {
     "elapsed": 119537,
     "status": "ok",
     "timestamp": 1618213801660,
     "user": {
      "displayName": "Utkarsh",
      "photoUrl": "https://lh3.googleusercontent.com/-gplhvKJjZdQ/AAAAAAAAAAI/AAAAAAAAEhA/cT_zmta4k_Q/s64/photo.jpg",
      "userId": "09628245901381158092"
     },
     "user_tz": -330
    },
    "id": "eborpIT6Oq89",
    "outputId": "c73741fd-0bf7-4db6-ac07-3595b6aee313"
   },
   "outputs": [
    {
     "data": {
      "text/plain": [
       "array([dtype('float64')], dtype=object)"
      ]
     },
     "execution_count": 20,
     "metadata": {
      "tags": []
     },
     "output_type": "execute_result"
    }
   ],
   "source": [
    "data.dtypes.unique()"
   ]
  },
  {
   "cell_type": "markdown",
   "metadata": {
    "id": "HEk6xlk5PCfm"
   },
   "source": [
    "### Setup"
   ]
  },
  {
   "cell_type": "code",
   "execution_count": null,
   "metadata": {
    "id": "58BZO2xRPBhZ"
   },
   "outputs": [],
   "source": [
    "seed = 123\n",
    "\n",
    "import xgboost as xgb\n",
    "from xgboost import DMatrix\n",
    "from xgboost import XGBClassifier\n",
    "from sklearn.model_selection import train_test_split, RandomizedSearchCV, GridSearchCV\n",
    "from sklearn.metrics import classification_report, confusion_matrix, roc_curve, roc_auc_score\n",
    "import matplotlib.pyplot as plt\n",
    "import seaborn as sns"
   ]
  },
  {
   "cell_type": "code",
   "execution_count": null,
   "metadata": {
    "id": "2NIY3RACV4G7"
   },
   "outputs": [],
   "source": [
    "def show_score(y_true, y_pred_proba, name='', cm=False, roc=True):\n",
    "  y_pred = y_pred_proba.round()\n",
    "  print('_'*40 + name+' data' + '_'*40)\n",
    "  # print('Accuracy: ', accuracy_score(y_true, y_pred), end='\\n'*2)\n",
    "  print('Classification Report:')\n",
    "  print(classification_report(y_true, y_pred), end='\\n')\n",
    "  print('-'*80)\n",
    "  print('ROC AUC Score:')\n",
    "  print(roc_auc_score(y_true, y_pred_proba))\n",
    "  print('-'*80)\n",
    "  \n",
    "  fig, (ax1, ax2) = plt.subplots(1, 2, figsize=(14, 5))\n",
    "  if cm:\n",
    "    cm = confusion_matrix(y_true, y_pred)\n",
    "    sns.heatmap(cm, annot=True, fmt='.2f', xticklabels=['Predicted 0', 'Predicted 1'],\n",
    "                yticklabels=['Actual 0', 'Actual 1'], ax=ax1);\n",
    "    ax1.set_title('Confusion Matrix')\n",
    "\n",
    "  if roc:\n",
    "    fpr, tpr, th = roc_curve(y_true, y_pred_proba)  \n",
    "    ax2.set_title('ROC Curve')\n",
    "    ax2.set_ylabel('True Positive Rate')\n",
    "    ax2.set_xlabel('False Positive Rate')\n",
    "    ax2.plot(fpr, tpr, linestyle='--');\n",
    "  plt.show()\n",
    "  print('-'*80)"
   ]
  },
  {
   "cell_type": "markdown",
   "metadata": {
    "id": "ZkR4sGxDPG1u"
   },
   "source": [
    "### prepare input data"
   ]
  },
  {
   "cell_type": "code",
   "execution_count": null,
   "metadata": {
    "id": "YCuz4ZntPI0G"
   },
   "outputs": [],
   "source": [
    "test_size = 500000\n",
    "train_size = data.shape[0] - test_size\n",
    "\n",
    "# train set\n",
    "X_train = data.iloc[: train_size, 1:]\n",
    "y_train = data.iloc[: train_size, 0]\n",
    "\n",
    "# test set\n",
    "X_test = data.iloc[-test_size:, 1:]\n",
    "y_test = data.iloc[-test_size:, 0]"
   ]
  },
  {
   "cell_type": "code",
   "execution_count": null,
   "metadata": {
    "colab": {
     "base_uri": "https://localhost:8080/"
    },
    "executionInfo": {
     "elapsed": 119513,
     "status": "ok",
     "timestamp": 1618213801666,
     "user": {
      "displayName": "Utkarsh",
      "photoUrl": "https://lh3.googleusercontent.com/-gplhvKJjZdQ/AAAAAAAAAAI/AAAAAAAAEhA/cT_zmta4k_Q/s64/photo.jpg",
      "userId": "09628245901381158092"
     },
     "user_tz": -330
    },
    "id": "pKBYFtUrVIO0",
    "outputId": "03e3eb73-071d-4c51-eac1-b664b2ff1e87"
   },
   "outputs": [
    {
     "data": {
      "text/plain": [
       "((5500000, 28), (5500000,), (500000, 28), (500000,))"
      ]
     },
     "execution_count": 24,
     "metadata": {
      "tags": []
     },
     "output_type": "execute_result"
    }
   ],
   "source": [
    "X_train.shape, y_train.shape, X_test.shape, y_test.shape"
   ]
  },
  {
   "cell_type": "code",
   "execution_count": null,
   "metadata": {
    "id": "Sev7nGr12V7E"
   },
   "outputs": [],
   "source": [
    "dtrain = DMatrix(data=X_train, label=y_train)\n",
    "dtest = DMatrix(data=X_test, label=y_test)"
   ]
  },
  {
   "cell_type": "markdown",
   "metadata": {
    "id": "2qVOqfv6V90q"
   },
   "source": [
    "### Train (XGBoost)"
   ]
  },
  {
   "cell_type": "code",
   "execution_count": null,
   "metadata": {
    "id": "D9qJScaY3F05"
   },
   "outputs": [],
   "source": [
    "params = {'objective': 'binary:logistic', 'eval_metric': 'auc', 'seed': seed, \n",
    "          'max_depth': 8, 'eta': 0.3, 'tree_method': 'gpu_hist', 'gpu_id': 0}"
   ]
  },
  {
   "cell_type": "code",
   "execution_count": null,
   "metadata": {
    "id": "xcVJReYf3FtZ"
   },
   "outputs": [],
   "source": [
    "clf = xgb.train(params=params, dtrain=dtrain, num_boost_round=350)  "
   ]
  },
  {
   "cell_type": "code",
   "execution_count": null,
   "metadata": {
    "id": "vzYSyGsN4LaA"
   },
   "outputs": [],
   "source": [
    "y_pred_train_proba = clf.predict(dtrain)\n",
    "y_pred_test_proba = clf.predict(dtest)"
   ]
  },
  {
   "cell_type": "markdown",
   "metadata": {
    "id": "k3zDSotDH1AC"
   },
   "source": [
    "### Results"
   ]
  },
  {
   "cell_type": "code",
   "execution_count": null,
   "metadata": {
    "colab": {
     "base_uri": "https://localhost:8080/"
    },
    "executionInfo": {
     "elapsed": 50020,
     "status": "ok",
     "timestamp": 1618213901941,
     "user": {
      "displayName": "Utkarsh",
      "photoUrl": "https://lh3.googleusercontent.com/-gplhvKJjZdQ/AAAAAAAAAAI/AAAAAAAAEhA/cT_zmta4k_Q/s64/photo.jpg",
      "userId": "09628245901381158092"
     },
     "user_tz": -330
    },
    "id": "9MJ5AIAlSq0z",
    "outputId": "05d77634-f0eb-4728-f990-72e6d019a66d"
   },
   "outputs": [
    {
     "name": "stdout",
     "output_type": "stream",
     "text": [
      "________________________________________Train data________________________________________\n",
      "Classification Report:\n",
      "              precision    recall  f1-score   support\n",
      "\n",
      "         0.0       0.77      0.75      0.76   2586725\n",
      "         1.0       0.79      0.81      0.80   2913275\n",
      "\n",
      "    accuracy                           0.78   5500000\n",
      "   macro avg       0.78      0.78      0.78   5500000\n",
      "weighted avg       0.78      0.78      0.78   5500000\n",
      "\n",
      "--------------------------------------------------------------------------------\n",
      "ROC AUC Score:\n",
      "0.866308523866095\n",
      "--------------------------------------------------------------------------------\n"
     ]
    },
    {
     "data": {
      "image/png": "[encoded data removed]",
      "text/plain": [
       "<Figure size 1008x360 with 2 Axes>"
      ]
     },
     "metadata": {
      "needs_background": "light",
      "tags": []
     },
     "output_type": "display_data"
    },
    {
     "name": "stdout",
     "output_type": "stream",
     "text": [
      "--------------------------------------------------------------------------------\n"
     ]
    }
   ],
   "source": [
    "show_score(y_train, y_pred_train_proba, name='Train', cm=False)"
   ]
  },
  {
   "cell_type": "markdown",
   "metadata": {
    "id": "6EGafCNCQ0Vj"
   },
   "source": [
    "##### Performance on untouched test set (last 500K samples)"
   ]
  },
  {
   "cell_type": "code",
   "execution_count": null,
   "metadata": {
    "colab": {
     "base_uri": "https://localhost:8080/"
    },
    "executionInfo": {
     "elapsed": 52499,
     "status": "ok",
     "timestamp": 1618213904425,
     "user": {
      "displayName": "Utkarsh",
      "photoUrl": "https://lh3.googleusercontent.com/-gplhvKJjZdQ/AAAAAAAAAAI/AAAAAAAAEhA/cT_zmta4k_Q/s64/photo.jpg",
      "userId": "09628245901381158092"
     },
     "user_tz": -330
    },
    "id": "6WlDek6XnH5y",
    "outputId": "6f4a188a-2508-4dfe-a2e2-6c55f7b9e4ad"
   },
   "outputs": [
    {
     "name": "stdout",
     "output_type": "stream",
     "text": [
      "________________________________________Test data________________________________________\n",
      "Classification Report:\n",
      "              precision    recall  f1-score   support\n",
      "\n",
      "         0.0       0.75      0.73      0.74    234930\n",
      "         1.0       0.77      0.78      0.78    265070\n",
      "\n",
      "    accuracy                           0.76    500000\n",
      "   macro avg       0.76      0.76      0.76    500000\n",
      "weighted avg       0.76      0.76      0.76    500000\n",
      "\n",
      "--------------------------------------------------------------------------------\n",
      "ROC AUC Score:\n",
      "0.8430741138771947\n",
      "--------------------------------------------------------------------------------\n"
     ]
    },
    {
     "data": {
      "image/png": "[encoded data removed]",
      "text/plain": [
       "<Figure size 1008x360 with 3 Axes>"
      ]
     },
     "metadata": {
      "needs_background": "light",
      "tags": []
     },
     "output_type": "display_data"
    },
    {
     "name": "stdout",
     "output_type": "stream",
     "text": [
      "--------------------------------------------------------------------------------\n"
     ]
    }
   ],
   "source": [
    "show_score(y_test, y_pred_test_proba, name='Test', cm=True)"
   ]
  },
  {
   "cell_type": "markdown",
   "metadata": {
    "id": "BHFuETMyyEZK"
   },
   "source": [
    "## B."
   ]
  },
  {
   "cell_type": "markdown",
   "metadata": {
    "id": "JAaBq_01HNm0"
   },
   "source": [
    "### Autoencoder, reducing dimensions from 28 to 14"
   ]
  },
  {
   "cell_type": "code",
   "execution_count": null,
   "metadata": {
    "id": "HsNeDzZIyF54"
   },
   "outputs": [],
   "source": [
    "from sklearn.preprocessing import RobustScaler \n",
    "from tensorflow.keras.layers import Dense, Input, BatchNormalization, LeakyReLU\n",
    "from tensorflow.keras import Model\n",
    "from tensorflow.keras.optimizers import Adam"
   ]
  },
  {
   "cell_type": "code",
   "execution_count": null,
   "metadata": {
    "colab": {
     "base_uri": "https://localhost:8080/"
    },
    "executionInfo": {
     "elapsed": 53037,
     "status": "ok",
     "timestamp": 1618213912501,
     "user": {
      "displayName": "Utkarsh",
      "photoUrl": "https://lh3.googleusercontent.com/-gplhvKJjZdQ/AAAAAAAAAAI/AAAAAAAAEhA/cT_zmta4k_Q/s64/photo.jpg",
      "userId": "09628245901381158092"
     },
     "user_tz": -330
    },
    "id": "2M8s29ENTmko",
    "outputId": "c11ff930-ff4a-464c-ad66-2c98cb866fce"
   },
   "outputs": [
    {
     "data": {
      "text/plain": [
       "((5500000, 28), (500000, 28))"
      ]
     },
     "execution_count": 34,
     "metadata": {
      "tags": []
     },
     "output_type": "execute_result"
    }
   ],
   "source": [
    "# RobustScaler\n",
    "scaler = RobustScaler()  \n",
    "X_train_scl = scaler.fit_transform(X_train)\n",
    "X_test_scl = scaler.transform(X_test)\n",
    "\n",
    "n_dim = X_train_scl.shape[1]\n",
    "n_dim_red = 14\n",
    "\n",
    "X_train_scl.shape, X_test_scl.shape"
   ]
  },
  {
   "cell_type": "code",
   "execution_count": null,
   "metadata": {
    "id": "o-XP6hayT68l"
   },
   "outputs": [],
   "source": [
    "input = Input(shape=(n_dim))\n",
    "\n",
    "# encoder\n",
    "encoder = Dense(n_dim * 2)(input)\n",
    "encoder = BatchNormalization()(encoder)\n",
    "encoder = LeakyReLU()(encoder)\n",
    "\n",
    "encoder = Dense(n_dim)(encoder)\n",
    "encoder = BatchNormalization()(encoder)\n",
    "encoder = LeakyReLU()(encoder)\n",
    "\n",
    "encoder = Dense(n_dim_red)(encoder)\n",
    "\n",
    "\n",
    "# decoder\n",
    "decoder = Dense(n_dim)(encoder)\n",
    "decoder = BatchNormalization()(decoder)\n",
    "decoder = LeakyReLU()(decoder)\n",
    "\n",
    "decoder = Dense(n_dim * 2)(decoder)\n",
    "decoder = BatchNormalization()(decoder)\n",
    "decoder = LeakyReLU()(decoder)\n",
    "\n",
    "decoder = Dense(n_dim)(decoder)\n",
    "\n",
    "model = Model(inputs=input, outputs=decoder)\n",
    "\n",
    "encoder = Model(inputs=input, outputs=encoder)"
   ]
  },
  {
   "cell_type": "code",
   "execution_count": null,
   "metadata": {
    "colab": {
     "base_uri": "https://localhost:8080/"
    },
    "executionInfo": {
     "elapsed": 4950778,
     "status": "ok",
     "timestamp": 1618218814585,
     "user": {
      "displayName": "Utkarsh",
      "photoUrl": "https://lh3.googleusercontent.com/-gplhvKJjZdQ/AAAAAAAAAAI/AAAAAAAAEhA/cT_zmta4k_Q/s64/photo.jpg",
      "userId": "09628245901381158092"
     },
     "user_tz": -330
    },
    "id": "tOYLwf29xfmI",
    "outputId": "c324af4e-d963-4214-bd54-1b4d872c4b9a"
   },
   "outputs": [
    {
     "name": "stdout",
     "output_type": "stream",
     "text": [
      "Epoch 1/30\n",
      "42969/42969 [==============================] - 169s 4ms/step - loss: 0.1930 - val_loss: 0.1084\n",
      "Epoch 2/30\n",
      "42969/42969 [==============================] - 167s 4ms/step - loss: 0.1188 - val_loss: 0.0939\n",
      "Epoch 3/30\n",
      "42969/42969 [==============================] - 166s 4ms/step - loss: 0.1019 - val_loss: 0.0858\n",
      "Epoch 4/30\n",
      "42969/42969 [==============================] - 163s 4ms/step - loss: 0.0969 - val_loss: 0.0851\n",
      "Epoch 5/30\n",
      "42969/42969 [==============================] - 163s 4ms/step - loss: 0.0939 - val_loss: 0.0829\n",
      "Epoch 6/30\n",
      "42969/42969 [==============================] - 163s 4ms/step - loss: 0.0907 - val_loss: 0.0805\n",
      "Epoch 7/30\n",
      "42969/42969 [==============================] - 163s 4ms/step - loss: 0.0871 - val_loss: 0.0762\n",
      "Epoch 8/30\n",
      "42969/42969 [==============================] - 162s 4ms/step - loss: 0.0846 - val_loss: 0.0744\n",
      "Epoch 9/30\n",
      "42969/42969 [==============================] - 163s 4ms/step - loss: 0.0829 - val_loss: 0.0761\n",
      "Epoch 10/30\n",
      "42969/42969 [==============================] - 163s 4ms/step - loss: 0.0815 - val_loss: 0.0778\n",
      "Epoch 11/30\n",
      "42969/42969 [==============================] - 162s 4ms/step - loss: 0.0808 - val_loss: 0.0750\n",
      "Epoch 12/30\n",
      "42969/42969 [==============================] - 162s 4ms/step - loss: 0.0802 - val_loss: 0.0734\n",
      "Epoch 13/30\n",
      "42969/42969 [==============================] - 162s 4ms/step - loss: 0.0798 - val_loss: 0.0742\n",
      "Epoch 14/30\n",
      "42969/42969 [==============================] - 162s 4ms/step - loss: 0.0795 - val_loss: 0.0708\n",
      "Epoch 15/30\n",
      "42969/42969 [==============================] - 163s 4ms/step - loss: 0.0793 - val_loss: 0.0700\n",
      "Epoch 16/30\n",
      "42969/42969 [==============================] - 162s 4ms/step - loss: 0.0788 - val_loss: 0.0706\n",
      "Epoch 17/30\n",
      "42969/42969 [==============================] - 163s 4ms/step - loss: 0.0787 - val_loss: 0.0699\n",
      "Epoch 18/30\n",
      "42969/42969 [==============================] - 162s 4ms/step - loss: 0.0784 - val_loss: 0.0715\n",
      "Epoch 19/30\n",
      "42969/42969 [==============================] - 163s 4ms/step - loss: 0.0784 - val_loss: 0.0682\n",
      "Epoch 20/30\n",
      "42969/42969 [==============================] - 162s 4ms/step - loss: 0.0782 - val_loss: 0.0693\n",
      "Epoch 21/30\n",
      "42969/42969 [==============================] - 163s 4ms/step - loss: 0.0780 - val_loss: 0.0733\n",
      "Epoch 22/30\n",
      "42969/42969 [==============================] - 163s 4ms/step - loss: 0.0780 - val_loss: 0.0724\n",
      "Epoch 23/30\n",
      "42969/42969 [==============================] - 163s 4ms/step - loss: 0.0779 - val_loss: 0.0724\n",
      "Epoch 24/30\n",
      "42969/42969 [==============================] - 163s 4ms/step - loss: 0.0780 - val_loss: 0.0741\n",
      "Epoch 25/30\n",
      "42969/42969 [==============================] - 162s 4ms/step - loss: 0.0778 - val_loss: 0.0725\n",
      "Epoch 26/30\n",
      "42969/42969 [==============================] - 163s 4ms/step - loss: 0.0776 - val_loss: 0.0720\n",
      "Epoch 27/30\n",
      "42969/42969 [==============================] - 163s 4ms/step - loss: 0.0776 - val_loss: 0.0713\n",
      "Epoch 28/30\n",
      "42969/42969 [==============================] - 164s 4ms/step - loss: 0.0774 - val_loss: 0.0708\n",
      "Epoch 29/30\n",
      "42969/42969 [==============================] - 162s 4ms/step - loss: 0.0772 - val_loss: 0.0705\n",
      "Epoch 30/30\n",
      "42969/42969 [==============================] - 163s 4ms/step - loss: 0.0770 - val_loss: 0.0691\n"
     ]
    },
    {
     "data": {
      "text/plain": [
       "<tensorflow.python.keras.callbacks.History at 0x7f9ec440ce90>"
      ]
     },
     "execution_count": 36,
     "metadata": {
      "tags": []
     },
     "output_type": "execute_result"
    }
   ],
   "source": [
    "# the loss is Mean Squared Error, lower the better it is\n",
    "opt = Adam(learning_rate=0.001)\n",
    "model.compile(optimizer=opt, loss='mse')\n",
    "\n",
    "model.fit(x=X_train_scl, y=X_train_scl, \n",
    "          batch_size=128, epochs=30,\n",
    "          validation_data=(X_test_scl, X_test_scl))"
   ]
  },
  {
   "cell_type": "markdown",
   "metadata": {
    "id": "hsW-YSr6GvjI"
   },
   "source": [
    "### prepare input data"
   ]
  },
  {
   "cell_type": "code",
   "execution_count": null,
   "metadata": {
    "id": "yUvee3otF1rv"
   },
   "outputs": [],
   "source": [
    "X_train_red = encoder.predict(X_train_scl, batch_size=128)\n",
    "X_test_red = encoder.predict(X_test_scl, batch_size=128)"
   ]
  },
  {
   "cell_type": "code",
   "execution_count": null,
   "metadata": {
    "colab": {
     "base_uri": "https://localhost:8080/"
    },
    "executionInfo": {
     "elapsed": 37641,
     "status": "ok",
     "timestamp": 1618218852269,
     "user": {
      "displayName": "Utkarsh",
      "photoUrl": "https://lh3.googleusercontent.com/-gplhvKJjZdQ/AAAAAAAAAAI/AAAAAAAAEhA/cT_zmta4k_Q/s64/photo.jpg",
      "userId": "09628245901381158092"
     },
     "user_tz": -330
    },
    "id": "8ehxzEJoGa9R",
    "outputId": "7aff4d3a-4715-483c-ac95-6003971b118a"
   },
   "outputs": [
    {
     "data": {
      "text/plain": [
       "((5500000, 14), (500000, 14))"
      ]
     },
     "execution_count": 38,
     "metadata": {
      "tags": []
     },
     "output_type": "execute_result"
    }
   ],
   "source": [
    "X_train_red.shape, X_test_red.shape"
   ]
  },
  {
   "cell_type": "code",
   "execution_count": null,
   "metadata": {
    "id": "_y23Y8mZGvjK"
   },
   "outputs": [],
   "source": [
    "dtrain_red = DMatrix(data=X_train_red, label=y_train)\n",
    "dtest_red = DMatrix(data=X_test_red, label=y_test)"
   ]
  },
  {
   "cell_type": "markdown",
   "metadata": {
    "id": "SuqZwmp_GoYB"
   },
   "source": [
    "### Train"
   ]
  },
  {
   "cell_type": "code",
   "execution_count": null,
   "metadata": {
    "id": "vFiRRldlGoYD"
   },
   "outputs": [],
   "source": [
    "params = {'objective': 'binary:logistic', 'eval_metric': 'auc', 'seed': seed, \n",
    "          'max_depth': 6, 'alpha':10, 'eta': 0.3, 'tree_method': 'gpu_hist', 'gpu_id': 0}"
   ]
  },
  {
   "cell_type": "code",
   "execution_count": null,
   "metadata": {
    "id": "rkt5oMGbbKD2"
   },
   "outputs": [],
   "source": [
    "clf_red = xgb.train(params=params, dtrain=dtrain_red, num_boost_round=1000)"
   ]
  },
  {
   "cell_type": "code",
   "execution_count": null,
   "metadata": {
    "id": "S0ckAeW8GoYE"
   },
   "outputs": [],
   "source": [
    "y_pred_train_proba = clf_red.predict(dtrain_red)\n",
    "y_pred_test_proba = clf_red.predict(dtest_red)"
   ]
  },
  {
   "cell_type": "markdown",
   "metadata": {
    "id": "WpHSybncx3Z-"
   },
   "source": [
    "### Results"
   ]
  },
  {
   "cell_type": "code",
   "execution_count": null,
   "metadata": {
    "colab": {
     "base_uri": "https://localhost:8080/",
     "height": 638
    },
    "executionInfo": {
     "elapsed": 104531,
     "status": "ok",
     "timestamp": 1618220056201,
     "user": {
      "displayName": "Utkarsh",
      "photoUrl": "https://lh3.googleusercontent.com/-gplhvKJjZdQ/AAAAAAAAAAI/AAAAAAAAEhA/cT_zmta4k_Q/s64/photo.jpg",
      "userId": "09628245901381158092"
     },
     "user_tz": -330
    },
    "id": "oGKxVojlx3Z_",
    "outputId": "6fb3c753-a368-420f-a8c8-a2a0391add5c"
   },
   "outputs": [
    {
     "name": "stdout",
     "output_type": "stream",
     "text": [
      "________________________________________Train data________________________________________\n",
      "Classification Report:\n",
      "              precision    recall  f1-score   support\n",
      "\n",
      "         0.0       0.70      0.61      0.65   2586725\n",
      "         1.0       0.69      0.77      0.73   2913275\n",
      "\n",
      "    accuracy                           0.70   5500000\n",
      "   macro avg       0.70      0.69      0.69   5500000\n",
      "weighted avg       0.70      0.70      0.69   5500000\n",
      "\n",
      "--------------------------------------------------------------------------------\n",
      "ROC AUC Score:\n",
      "0.7656345023136812\n",
      "--------------------------------------------------------------------------------\n"
     ]
    },
    {
     "data": {
      "image/png": "[encoded data removed]",
      "text/plain": [
       "<Figure size 1008x360 with 2 Axes>"
      ]
     },
     "metadata": {
      "needs_background": "light",
      "tags": []
     },
     "output_type": "display_data"
    },
    {
     "name": "stdout",
     "output_type": "stream",
     "text": [
      "--------------------------------------------------------------------------------\n"
     ]
    }
   ],
   "source": [
    "show_score(y_train, y_pred_train_proba, name='Train', cm=False)"
   ]
  },
  {
   "cell_type": "markdown",
   "metadata": {
    "id": "ApXRwWcSx3aA"
   },
   "source": [
    "##### Performance on untouched test set (last 500K samples) with low dimensional features (dimensions=14)"
   ]
  },
  {
   "cell_type": "code",
   "execution_count": null,
   "metadata": {
    "colab": {
     "base_uri": "https://localhost:8080/",
     "height": 638
    },
    "executionInfo": {
     "elapsed": 106667,
     "status": "ok",
     "timestamp": 1618220058350,
     "user": {
      "displayName": "Utkarsh",
      "photoUrl": "https://lh3.googleusercontent.com/-gplhvKJjZdQ/AAAAAAAAAAI/AAAAAAAAEhA/cT_zmta4k_Q/s64/photo.jpg",
      "userId": "09628245901381158092"
     },
     "user_tz": -330
    },
    "id": "BVlbIg6Wx3aA",
    "outputId": "b041311b-eb99-4da6-f03b-d0aa4e9f47ca"
   },
   "outputs": [
    {
     "name": "stdout",
     "output_type": "stream",
     "text": [
      "________________________________________Test data________________________________________\n",
      "Classification Report:\n",
      "              precision    recall  f1-score   support\n",
      "\n",
      "         0.0       0.67      0.59      0.63    234930\n",
      "         1.0       0.67      0.75      0.71    265070\n",
      "\n",
      "    accuracy                           0.67    500000\n",
      "   macro avg       0.67      0.67      0.67    500000\n",
      "weighted avg       0.67      0.67      0.67    500000\n",
      "\n",
      "--------------------------------------------------------------------------------\n",
      "ROC AUC Score:\n",
      "0.736416256396276\n",
      "--------------------------------------------------------------------------------\n"
     ]
    },
    {
     "data": {
      "image/png": "[encoded data removed]",
      "text/plain": [
       "<Figure size 1008x360 with 3 Axes>"
      ]
     },
     "metadata": {
      "needs_background": "light",
      "tags": []
     },
     "output_type": "display_data"
    },
    {
     "name": "stdout",
     "output_type": "stream",
     "text": [
      "--------------------------------------------------------------------------------\n"
     ]
    }
   ],
   "source": [
    "show_score(y_test, y_pred_test_proba, name='Test', cm=True)"
   ]
  },
  {
   "cell_type": "markdown",
   "metadata": {
    "id": "CF5rjmf8tanx"
   },
   "source": [
    "- On test data, with original features (dimensions=28), ROC AUC Score = 0.8430741138771947\n",
    "- On test data, with low dimensional features (dimensions=14), ROC AUC Score = 0.736416256396276"
   ]
  },
  {
   "cell_type": "markdown",
   "metadata": {
    "id": "RlgGHnAcwhoi"
   },
   "source": [
    "#### Pipeline:\n",
    "original features -> Robust scaler -> low dimensional features -> DMatrix -> XGBoost"
   ]
  },
  {
   "cell_type": "markdown",
   "metadata": {
    "id": "2XaLI09syH5m"
   },
   "source": [
    "### save model"
   ]
  },
  {
   "cell_type": "code",
   "execution_count": null,
   "metadata": {
    "id": "bd43G6aNyRd_"
   },
   "outputs": [],
   "source": [
    "# import os\n",
    "# from tensorflow.keras.models import load_model\n",
    "# import pickle\n",
    "\n",
    "# save\n",
    "# os.mkdir('/content/drive/MyDrive/colab/CGM_GSOC/saved_encoder')\n",
    "# encoder.save('/content/drive/MyDrive/colab/CGM_GSOC/saved_encoder')\n",
    "# os.mkdir('/content/drive/MyDrive/colab/CGM_GSOC/saved_model')\n",
    "# model.save('/content/drive/MyDrive/colab/CGM_GSOC/saved_model')\n",
    "# with open('/content/drive/MyDrive/colab/CGM_GSOC/clf_red', 'wb') as f:\n",
    "#   pickle.dump(clf_red, f)  \n",
    "# with open('/content/drive/MyDrive/colab/CGM_GSOC/clf', 'wb') as f:\n",
    "#   pickle.dump(clf, f)  \n",
    "# with open('/content/drive/MyDrive/colab/CGM_GSOC/scaler', 'wb') as f:\n",
    "#   pickle.dump(scaler, f)  \n",
    "\n",
    "# load\n",
    "# encoder = load_model('/content/drive/MyDrive/colab/CGM_GSOC/saved_encoder')\n",
    "# model = load_model('/content/drive/MyDrive/colab/CGM_GSOC/saved_model')\n",
    "# with open('/content/drive/MyDrive/colab/CGM_GSOC/clf_red', 'rb') as f:\n",
    "#   clf_red = pickle.load(f)\n",
    "# with open('/content/drive/MyDrive/colab/CGM_GSOC/clf', 'rb') as f:\n",
    "#   clf = pickle.load(f)\n",
    "# with open('/content/drive/MyDrive/colab/CGM_GSOC/scaler', 'rb') as f:\n",
    "#   scaler = pickle.load(f)"
   ]
  }
 ],
 "metadata": {
  "accelerator": "GPU",
  "colab": {
   "authorship_tag": "ABX9TyMJc2IZtd7dKiF9ddR6ITl1",
   "collapsed_sections": [
    "OzSxt65G11vJ",
    "Tt2s1bqs4aeW",
    "YQ4EO3Jc8tXA",
    "CMHP7QUathqb",
    "HrGRrwdY4bpt",
    "AS3Cv-C8iT8H",
    "nqCzl7LSIWSg",
    "iWBSAXasxyKd",
    "H6uid677yx5U",
    "DRm1SDSv1xL4",
    "1nCvtmMBRDtL",
    "5lZKec9Q2KH5",
    "HEk6xlk5PCfm",
    "ZkR4sGxDPG1u",
    "2qVOqfv6V90q",
    "k3zDSotDH1AC",
    "6EGafCNCQ0Vj",
    "JAaBq_01HNm0",
    "hsW-YSr6GvjI",
    "SuqZwmp_GoYB",
    "WpHSybncx3Z-",
    "ApXRwWcSx3aA",
    "RlgGHnAcwhoi"
   ],
   "mount_file_id": "1--eC5SdsIDHJnYvkSitB8A7OItWZ5g6P",
   "name": "notebook.ipynb",
   "provenance": [],
   "toc_visible": true
  },
  "kernelspec": {
   "display_name": "Python 3",
   "language": "python",
   "name": "python3"
  },
  "language_info": {
   "codemirror_mode": {
    "name": "ipython",
    "version": 3
   },
   "file_extension": ".py",
   "mimetype": "text/x-python",
   "name": "python",
   "nbconvert_exporter": "python",
   "pygments_lexer": "ipython3",
   "version": "3.8.3"
  }
 },
 "nbformat": 4,
 "nbformat_minor": 1
}
